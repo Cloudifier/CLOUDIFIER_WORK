{
 "metadata": {
  "kernelspec": {
   "display_name": "Python 2",
   "language": "python",
   "name": "python2"
  },
  "language_info": {
   "codemirror_mode": {
    "name": "ipython",
    "version": 2
   },
   "file_extension": ".py",
   "mimetype": "text/x-python",
   "name": "python",
   "nbconvert_exporter": "python",
   "pygments_lexer": "ipython2",
   "version": "2.7.12"
  },
  "name": "",
  "signature": "sha256:3d1c3fdad14961587701c5e4157a675b914a96f6be864a42fb03404c06c99db4"
 },
 "nbformat": 3,
 "nbformat_minor": 0,
 "worksheets": [
  {
   "cells": [
    {
     "cell_type": "code",
     "collapsed": false,
     "input": [
      "import pandas as pd\n",
      "\n",
      "iris_df = pd.read_csv(\"https://archive.ics.uci.edu/ml/machine-learning-databases/iris/iris.data\", header=None,\n",
      "                      names = [\"Sepal_length\", \"Sepal_width\", \"Petal_length\", \"Petal_width\", \"Species\"])\n",
      "\n",
      "print(\"Number of entries: {}\\n\".format(len(iris_df)))\n",
      "print(\"Data frame columns: {}\\n\".format(iris_df.columns))\n",
      "print(\"\\nFirst five entries...\\n\")\n",
      "print(iris_df.head(5))\n",
      "\n",
      "print(\"\\nExploring data...\\n\")\n",
      "print(iris_df.describe())\n",
      "\n",
      "print(\"\\nCount by species...\")\n",
      "print(iris_df.Species.value_counts())"
     ],
     "language": "python",
     "metadata": {},
     "outputs": [
      {
       "output_type": "stream",
       "stream": "stdout",
       "text": [
        "Number of entries: 150\n",
        "\n",
        "Data frame columns: Index(['Sepal_length', 'Sepal_width', 'Petal_length', 'Petal_width',\n",
        "       'Species'],\n",
        "      dtype='object')\n",
        "\n",
        "\n",
        "First five entries...\n",
        "\n",
        "   Sepal_length  Sepal_width  Petal_length  Petal_width      Species\n",
        "0           5.1          3.5           1.4          0.2  Iris-setosa\n",
        "1           4.9          3.0           1.4          0.2  Iris-setosa\n",
        "2           4.7          3.2           1.3          0.2  Iris-setosa\n",
        "3           4.6          3.1           1.5          0.2  Iris-setosa\n",
        "4           5.0          3.6           1.4          0.2  Iris-setosa\n",
        "\n",
        "Exploring data...\n",
        "\n",
        "       Sepal_length  Sepal_width  Petal_length  Petal_width\n",
        "count    150.000000   150.000000    150.000000   150.000000\n",
        "mean       5.843333     3.054000      3.758667     1.198667\n",
        "std        0.828066     0.433594      1.764420     0.763161\n",
        "min        4.300000     2.000000      1.000000     0.100000\n",
        "25%        5.100000     2.800000      1.600000     0.300000\n",
        "50%        5.800000     3.000000      4.350000     1.300000\n",
        "75%        6.400000     3.300000      5.100000     1.800000\n",
        "max        7.900000     4.400000      6.900000     2.500000\n",
        "\n",
        "Count by species...\n",
        "Iris-setosa        50\n",
        "Iris-versicolor    50\n",
        "Iris-virginica     50\n",
        "Name: Species, dtype: int64\n"
       ]
      }
     ],
     "prompt_number": 6
    },
    {
     "cell_type": "code",
     "collapsed": false,
     "input": [
      "from bokeh.charts import BoxPlot, output_notebook, show\n",
      "data = iris_df[['Petal_length','Sepal_length']]\n",
      "output_notebook()\n",
      "bp1 = BoxPlot(data, width=400, height=400)\n",
      "#show(bp1)"
     ],
     "language": "python",
     "metadata": {},
     "outputs": [
      {
       "html": [
        "\n",
        "    <div class=\"bk-root\">\n",
        "        <a href=\"http://bokeh.pydata.org\" target=\"_blank\" class=\"bk-logo bk-logo-small bk-logo-notebook\"></a>\n",
        "        <span id=\"fc7f8ec5-aeb8-4339-9c95-d3e151854e4b\">Loading BokehJS ...</span>\n",
        "    </div>"
       ],
       "metadata": {},
       "output_type": "display_data"
      },
      {
       "javascript": [
        "\n",
        "(function(global) {\n",
        "  function now() {\n",
        "    return new Date();\n",
        "  }\n",
        "\n",
        "  var force = true;\n",
        "\n",
        "  if (typeof (window._bokeh_onload_callbacks) === \"undefined\" || force === true) {\n",
        "    window._bokeh_onload_callbacks = [];\n",
        "    window._bokeh_is_loading = undefined;\n",
        "  }\n",
        "\n",
        "\n",
        "  \n",
        "  if (typeof (window._bokeh_timeout) === \"undefined\" || force === true) {\n",
        "    window._bokeh_timeout = Date.now() + 5000;\n",
        "    window._bokeh_failed_load = false;\n",
        "  }\n",
        "\n",
        "  var NB_LOAD_WARNING = {'data': {'text/html':\n",
        "     \"<div style='background-color: #fdd'>\\n\"+\n",
        "     \"<p>\\n\"+\n",
        "     \"BokehJS does not appear to have successfully loaded. If loading BokehJS from CDN, this \\n\"+\n",
        "     \"may be due to a slow or bad network connection. Possible fixes:\\n\"+\n",
        "     \"</p>\\n\"+\n",
        "     \"<ul>\\n\"+\n",
        "     \"<li>re-rerun `output_notebook()` to attempt to load from CDN again, or</li>\\n\"+\n",
        "     \"<li>use INLINE resources instead, as so:</li>\\n\"+\n",
        "     \"</ul>\\n\"+\n",
        "     \"<code>\\n\"+\n",
        "     \"from bokeh.resources import INLINE\\n\"+\n",
        "     \"output_notebook(resources=INLINE)\\n\"+\n",
        "     \"</code>\\n\"+\n",
        "     \"</div>\"}};\n",
        "\n",
        "  function display_loaded() {\n",
        "    if (window.Bokeh !== undefined) {\n",
        "      var el = document.getElementById(\"fc7f8ec5-aeb8-4339-9c95-d3e151854e4b\");\n",
        "      el.textContent = \"BokehJS \" + Bokeh.version + \" successfully loaded.\";\n",
        "    } else if (Date.now() < window._bokeh_timeout) {\n",
        "      setTimeout(display_loaded, 100)\n",
        "    }\n",
        "  }\n",
        "\n",
        "  function run_callbacks() {\n",
        "    window._bokeh_onload_callbacks.forEach(function(callback) { callback() });\n",
        "    delete window._bokeh_onload_callbacks\n",
        "    console.info(\"Bokeh: all callbacks have finished\");\n",
        "  }\n",
        "\n",
        "  function load_libs(js_urls, callback) {\n",
        "    window._bokeh_onload_callbacks.push(callback);\n",
        "    if (window._bokeh_is_loading > 0) {\n",
        "      console.log(\"Bokeh: BokehJS is being loaded, scheduling callback at\", now());\n",
        "      return null;\n",
        "    }\n",
        "    if (js_urls == null || js_urls.length === 0) {\n",
        "      run_callbacks();\n",
        "      return null;\n",
        "    }\n",
        "    console.log(\"Bokeh: BokehJS not loaded, scheduling load and callback at\", now());\n",
        "    window._bokeh_is_loading = js_urls.length;\n",
        "    for (var i = 0; i < js_urls.length; i++) {\n",
        "      var url = js_urls[i];\n",
        "      var s = document.createElement('script');\n",
        "      s.src = url;\n",
        "      s.async = false;\n",
        "      s.onreadystatechange = s.onload = function() {\n",
        "        window._bokeh_is_loading--;\n",
        "        if (window._bokeh_is_loading === 0) {\n",
        "          console.log(\"Bokeh: all BokehJS libraries loaded\");\n",
        "          run_callbacks()\n",
        "        }\n",
        "      };\n",
        "      s.onerror = function() {\n",
        "        console.warn(\"failed to load library \" + url);\n",
        "      };\n",
        "      console.log(\"Bokeh: injecting script tag for BokehJS library: \", url);\n",
        "      document.getElementsByTagName(\"head\")[0].appendChild(s);\n",
        "    }\n",
        "  };var element = document.getElementById(\"fc7f8ec5-aeb8-4339-9c95-d3e151854e4b\");\n",
        "  if (element == null) {\n",
        "    console.log(\"Bokeh: ERROR: autoload.js configured with elementid 'fc7f8ec5-aeb8-4339-9c95-d3e151854e4b' but no matching script tag was found. \")\n",
        "    return false;\n",
        "  }\n",
        "\n",
        "  var js_urls = [\"https://cdn.pydata.org/bokeh/release/bokeh-0.12.5.min.js\", \"https://cdn.pydata.org/bokeh/release/bokeh-widgets-0.12.5.min.js\"];\n",
        "\n",
        "  var inline_js = [\n",
        "    function(Bokeh) {\n",
        "      Bokeh.set_log_level(\"info\");\n",
        "    },\n",
        "    \n",
        "    function(Bokeh) {\n",
        "      \n",
        "    },\n",
        "    \n",
        "    function(Bokeh) {\n",
        "      \n",
        "      document.getElementById(\"fc7f8ec5-aeb8-4339-9c95-d3e151854e4b\").textContent = \"BokehJS is loading...\";\n",
        "    },\n",
        "    function(Bokeh) {\n",
        "      console.log(\"Bokeh: injecting CSS: https://cdn.pydata.org/bokeh/release/bokeh-0.12.5.min.css\");\n",
        "      Bokeh.embed.inject_css(\"https://cdn.pydata.org/bokeh/release/bokeh-0.12.5.min.css\");\n",
        "      console.log(\"Bokeh: injecting CSS: https://cdn.pydata.org/bokeh/release/bokeh-widgets-0.12.5.min.css\");\n",
        "      Bokeh.embed.inject_css(\"https://cdn.pydata.org/bokeh/release/bokeh-widgets-0.12.5.min.css\");\n",
        "    }\n",
        "  ];\n",
        "\n",
        "  function run_inline_js() {\n",
        "    \n",
        "    if ((window.Bokeh !== undefined) || (force === true)) {\n",
        "      for (var i = 0; i < inline_js.length; i++) {\n",
        "        inline_js[i](window.Bokeh);\n",
        "      }if (force === true) {\n",
        "        display_loaded();\n",
        "      }} else if (Date.now() < window._bokeh_timeout) {\n",
        "      setTimeout(run_inline_js, 100);\n",
        "    } else if (!window._bokeh_failed_load) {\n",
        "      console.log(\"Bokeh: BokehJS failed to load within specified timeout.\");\n",
        "      window._bokeh_failed_load = true;\n",
        "    } else if (force !== true) {\n",
        "      var cell = $(document.getElementById(\"fc7f8ec5-aeb8-4339-9c95-d3e151854e4b\")).parents('.cell').data().cell;\n",
        "      cell.output_area.append_execute_result(NB_LOAD_WARNING)\n",
        "    }\n",
        "\n",
        "  }\n",
        "\n",
        "  if (window._bokeh_is_loading === 0) {\n",
        "    console.log(\"Bokeh: BokehJS loaded, going straight to plotting\");\n",
        "    run_inline_js();\n",
        "  } else {\n",
        "    load_libs(js_urls, function() {\n",
        "      console.log(\"Bokeh: BokehJS plotting callback run at\", now());\n",
        "      run_inline_js();\n",
        "    });\n",
        "  }\n",
        "}(this));"
       ],
       "metadata": {},
       "output_type": "display_data"
      }
     ],
     "prompt_number": 7
    },
    {
     "cell_type": "code",
     "collapsed": false,
     "input": [
      "import matplotlib.pyplot  as plt\n",
      "plt.ion()\n",
      "iris_df.boxplot(column='Petal_width', by='Species')\n",
      "\n",
      "fig = plt.figure()\n",
      "fig.suptitle('Sepal length histogram')\n",
      "plt.xlabel('Sepal length')\n",
      "plt.ylabel('Number of flowers')\n",
      "iris_df['Sepal_length'].hist()"
     ],
     "language": "python",
     "metadata": {},
     "outputs": [
      {
       "metadata": {},
       "output_type": "pyout",
       "prompt_number": 8,
       "text": [
        "<matplotlib.axes._subplots.AxesSubplot at 0x7f8df8ee7748>"
       ]
      }
     ],
     "prompt_number": 8
    },
    {
     "cell_type": "code",
     "collapsed": false,
     "input": [
      "import numpy as np\n",
      "iris_df['Sepal_length_log'] = np.log(tmp['Sepal_length'])\n",
      "\n",
      "fig = plt.figure()\n",
      "fig.suptitle('Sepal length log histogram')\n",
      "iris_df['Sepal_length_log'].hist()"
     ],
     "language": "python",
     "metadata": {},
     "outputs": [
      {
       "metadata": {},
       "output_type": "pyout",
       "prompt_number": 9,
       "text": [
        "<matplotlib.axes._subplots.AxesSubplot at 0x7f8df9f82358>"
       ]
      }
     ],
     "prompt_number": 9
    },
    {
     "cell_type": "code",
     "collapsed": false,
     "input": [
      "from sklearn.preprocessing import LabelEncoder\n",
      "\n",
      "# Convert species to numeric values\n",
      "number = LabelEncoder()\n",
      "iris_df['Species_labeled'] = number.fit_transform(iris_df['Species'].astype(str))\n",
      "print(iris_df.head(5))"
     ],
     "language": "python",
     "metadata": {},
     "outputs": [
      {
       "output_type": "stream",
       "stream": "stdout",
       "text": [
        "   Sepal_length  Sepal_width  Petal_length  Petal_width  Species  \\\n",
        "0           5.1          3.5           1.4          0.2        0   \n",
        "1           4.9          3.0           1.4          0.2        0   \n",
        "2           4.7          3.2           1.3          0.2        0   \n",
        "3           4.6          3.1           1.5          0.2        0   \n",
        "4           5.0          3.6           1.4          0.2        0   \n",
        "\n",
        "   Sepal_length_log  Species_labeled  \n",
        "0          1.629241                0  \n",
        "1          1.589235                0  \n",
        "2          1.547563                0  \n",
        "3          1.526056                0  \n",
        "4          1.609438                0  \n"
       ]
      }
     ],
     "prompt_number": 12
    }
   ],
   "metadata": {}
  }
 ]
}