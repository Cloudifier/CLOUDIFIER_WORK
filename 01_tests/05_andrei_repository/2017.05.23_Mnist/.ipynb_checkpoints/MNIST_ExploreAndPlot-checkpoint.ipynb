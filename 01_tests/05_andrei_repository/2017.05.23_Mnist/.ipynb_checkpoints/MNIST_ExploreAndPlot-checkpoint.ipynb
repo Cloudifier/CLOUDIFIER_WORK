{
 "cells": [
  {
   "cell_type": "code",
   "execution_count": 1,
   "metadata": {},
   "outputs": [],
   "source": [
    "from sklearn.datasets import fetch_mldata\n",
    "mnist = fetch_mldata('MNIST original', target_name='digit_type', data_name='pic', data_home=\"_data\")"
   ]
  },
  {
   "cell_type": "code",
   "execution_count": 2,
   "metadata": {},
   "outputs": [
    {
     "name": "stdout",
     "output_type": "stream",
     "text": [
      "Number of entries: 70000\n",
      "Entry dimension: 28 x 28 pixels\n"
     ]
    }
   ],
   "source": [
    "from math import sqrt\n",
    "print(\"Number of entries: {}\".format(mnist.data.shape[0]))\n",
    "pic_size = mnist.data.shape[1];\n",
    "print(\"Entry dimension: {} x {} pixels\".format(int(sqrt(pic_size)), int(sqrt(pic_size))));"
   ]
  },
  {
   "cell_type": "code",
   "execution_count": 3,
   "metadata": {},
   "outputs": [],
   "source": [
    "import pandas as pd\n",
    "import numpy as np\n",
    "import platform\n",
    "\n",
    "os_name = platform.system()\n",
    "sep = \"\\\\\" if ( os_name.find(\"Linux\") == -1 ) else \"/\"\n",
    "\n",
    "labels = [\"pixel_\" + str(i) for i in range(784)]\n",
    "mnist_df = pd.DataFrame(np.c_[mnist['target'], mnist['data']] , columns = [\"Digit_label\"] + labels)"
   ]
  },
  {
   "cell_type": "code",
   "execution_count": 4,
   "metadata": {},
   "outputs": [
    {
     "name": "stdout",
     "output_type": "stream",
     "text": [
      "First five entries from MNIST \n",
      "    Digit_label  pixel_0  pixel_1  pixel_2  pixel_3  pixel_4  pixel_5  pixel_6  \\\n",
      "0          0.0      0.0      0.0      0.0      0.0      0.0      0.0      0.0   \n",
      "1          0.0      0.0      0.0      0.0      0.0      0.0      0.0      0.0   \n",
      "2          0.0      0.0      0.0      0.0      0.0      0.0      0.0      0.0   \n",
      "3          0.0      0.0      0.0      0.0      0.0      0.0      0.0      0.0   \n",
      "4          0.0      0.0      0.0      0.0      0.0      0.0      0.0      0.0   \n",
      "\n",
      "   pixel_7  pixel_8    ...      pixel_774  pixel_775  pixel_776  pixel_777  \\\n",
      "0      0.0      0.0    ...            0.0        0.0        0.0        0.0   \n",
      "1      0.0      0.0    ...            0.0        0.0        0.0        0.0   \n",
      "2      0.0      0.0    ...            0.0        0.0        0.0        0.0   \n",
      "3      0.0      0.0    ...            0.0        0.0        0.0        0.0   \n",
      "4      0.0      0.0    ...            0.0        0.0        0.0        0.0   \n",
      "\n",
      "   pixel_778  pixel_779  pixel_780  pixel_781  pixel_782  pixel_783  \n",
      "0        0.0        0.0        0.0        0.0        0.0        0.0  \n",
      "1        0.0        0.0        0.0        0.0        0.0        0.0  \n",
      "2        0.0        0.0        0.0        0.0        0.0        0.0  \n",
      "3        0.0        0.0        0.0        0.0        0.0        0.0  \n",
      "4        0.0        0.0        0.0        0.0        0.0        0.0  \n",
      "\n",
      "[5 rows x 785 columns]\n",
      "\n",
      "Number of entries 70000\n",
      "       Digit_label  pixel_0  pixel_1  pixel_2  pixel_3  pixel_4  pixel_5  \\\n",
      "69995          9.0      0.0      0.0      0.0      0.0      0.0      0.0   \n",
      "69996          9.0      0.0      0.0      0.0      0.0      0.0      0.0   \n",
      "69997          9.0      0.0      0.0      0.0      0.0      0.0      0.0   \n",
      "69998          9.0      0.0      0.0      0.0      0.0      0.0      0.0   \n",
      "69999          9.0      0.0      0.0      0.0      0.0      0.0      0.0   \n",
      "\n",
      "       pixel_6  pixel_7  pixel_8    ...      pixel_774  pixel_775  pixel_776  \\\n",
      "69995      0.0      0.0      0.0    ...            0.0        0.0        0.0   \n",
      "69996      0.0      0.0      0.0    ...            0.0        0.0        0.0   \n",
      "69997      0.0      0.0      0.0    ...            0.0        0.0        0.0   \n",
      "69998      0.0      0.0      0.0    ...            0.0        0.0        0.0   \n",
      "69999      0.0      0.0      0.0    ...            0.0        0.0        0.0   \n",
      "\n",
      "       pixel_777  pixel_778  pixel_779  pixel_780  pixel_781  pixel_782  \\\n",
      "69995        0.0        0.0        0.0        0.0        0.0        0.0   \n",
      "69996        0.0        0.0        0.0        0.0        0.0        0.0   \n",
      "69997        0.0        0.0        0.0        0.0        0.0        0.0   \n",
      "69998        0.0        0.0        0.0        0.0        0.0        0.0   \n",
      "69999        0.0        0.0        0.0        0.0        0.0        0.0   \n",
      "\n",
      "       pixel_783  \n",
      "69995        0.0  \n",
      "69996        0.0  \n",
      "69997        0.0  \n",
      "69998        0.0  \n",
      "69999        0.0  \n",
      "\n",
      "[5 rows x 785 columns]\n"
     ]
    }
   ],
   "source": [
    "print(\"First five entries from MNIST \\n {}\".format(mnist_df.head(5)))\n",
    "print(\"\\nNumber of entries {}\".format(len(mnist_df)))\n",
    "\n",
    "print(mnist_df.tail())"
   ]
  },
  {
   "cell_type": "code",
   "execution_count": 5,
   "metadata": {},
   "outputs": [
    {
     "name": "stdout",
     "output_type": "stream",
     "text": [
      "Exploring pixel 500 to pixel 700 values\n",
      "\n",
      "          pixel_500     pixel_501     pixel_502     pixel_503     pixel_504  \\\n",
      "count  70000.000000  70000.000000  70000.000000  70000.000000  70000.000000   \n",
      "mean       5.052571      1.354643      0.188414      0.011043      0.001629   \n",
      "std       30.306113     15.553028      5.474734      0.980637      0.297847   \n",
      "min        0.000000      0.000000      0.000000      0.000000      0.000000   \n",
      "25%        0.000000      0.000000      0.000000      0.000000      0.000000   \n",
      "50%        0.000000      0.000000      0.000000      0.000000      0.000000   \n",
      "75%        0.000000      0.000000      0.000000      0.000000      0.000000   \n",
      "max      255.000000    255.000000    253.000000    121.000000     60.000000   \n",
      "\n",
      "          pixel_505     pixel_506     pixel_507     pixel_508     pixel_509  \\\n",
      "count  70000.000000  70000.000000  70000.000000  70000.000000  70000.000000   \n",
      "mean       0.006357      0.184357      1.506857      7.473757     20.155500   \n",
      "std        0.909545      5.497402     16.616272     37.894141     61.886865   \n",
      "min        0.000000      0.000000      0.000000      0.000000      0.000000   \n",
      "25%        0.000000      0.000000      0.000000      0.000000      0.000000   \n",
      "50%        0.000000      0.000000      0.000000      0.000000      0.000000   \n",
      "75%        0.000000      0.000000      0.000000      0.000000      0.000000   \n",
      "max      197.000000    255.000000    255.000000    255.000000    255.000000   \n",
      "\n",
      "         ...         pixel_690     pixel_691     pixel_692     pixel_693  \\\n",
      "count    ...      70000.000000  70000.000000  70000.000000  70000.000000   \n",
      "mean     ...         12.100643      7.126114      3.883757      1.902443   \n",
      "std      ...         47.287876     36.858715     27.074367     19.089647   \n",
      "min      ...          0.000000      0.000000      0.000000      0.000000   \n",
      "25%      ...          0.000000      0.000000      0.000000      0.000000   \n",
      "50%      ...          0.000000      0.000000      0.000000      0.000000   \n",
      "75%      ...          0.000000      0.000000      0.000000      0.000000   \n",
      "max      ...        255.000000    255.000000    255.000000    255.000000   \n",
      "\n",
      "          pixel_694     pixel_695     pixel_696     pixel_697     pixel_698  \\\n",
      "count  70000.000000  70000.000000  70000.000000  70000.000000  70000.000000   \n",
      "mean       0.897543      0.370771      0.091386      0.019071      0.001657   \n",
      "std       12.891572      8.056351      3.709513      1.804909      0.376600   \n",
      "min        0.000000      0.000000      0.000000      0.000000      0.000000   \n",
      "25%        0.000000      0.000000      0.000000      0.000000      0.000000   \n",
      "50%        0.000000      0.000000      0.000000      0.000000      0.000000   \n",
      "75%        0.000000      0.000000      0.000000      0.000000      0.000000   \n",
      "max      255.000000    255.000000    254.000000    252.000000     98.000000   \n",
      "\n",
      "       pixel_699  \n",
      "count    70000.0  \n",
      "mean         0.0  \n",
      "std          0.0  \n",
      "min          0.0  \n",
      "25%          0.0  \n",
      "50%          0.0  \n",
      "75%          0.0  \n",
      "max          0.0  \n",
      "\n",
      "[8 rows x 200 columns]\n"
     ]
    }
   ],
   "source": [
    "print(\"Exploring pixel 500 to pixel 700 values\\n\")\n",
    "print(\"{}\".format(mnist_df.ix[:,1:].describe().ix[:, 500:700]))"
   ]
  },
  {
   "cell_type": "code",
   "execution_count": 6,
   "metadata": {},
   "outputs": [
    {
     "name": "stdout",
     "output_type": "stream",
     "text": [
      "Data set has null values?\n",
      "\n",
      "NO\n"
     ]
    }
   ],
   "source": [
    "null_values = [value[0] for value in mnist_df.isnull().sum().items() if value[1] != 0]\n",
    "print(\"Data set has null values?\\n\");\n",
    "print(\"YES\" if len(null_values) != 0 else \"NO\")"
   ]
  },
  {
   "cell_type": "code",
   "execution_count": null,
   "metadata": {},
   "outputs": [],
   "source": [
    "import matplotlib.pyplot  as plt\n",
    "import sys\n",
    "\n",
    "row_idx = input(\"Enter a row index from 1 to 70000: \")\n",
    "row_idx = int(row_idx)\n",
    "\n",
    "f = plt.figure(figsize=(5,5));\n",
    "plt.ion()\n",
    "\n",
    "imarray = np.asfarray(mnist_df.ix[row_idx - 1,1:]).reshape((28,28))\n",
    "plt.title(\"Label is {}\".format(mnist_df.ix[row_idx - 1,0]))\n",
    "plt.imshow(imarray, cmap='Greys', interpolation='None')"
   ]
  },
  {
   "cell_type": "code",
   "execution_count": null,
   "metadata": {},
   "outputs": [],
   "source": [
    "mnist_df.boxplot(column='pixel_569', by='Digit_label')"
   ]
  },
  {
   "cell_type": "code",
   "execution_count": null,
   "metadata": {},
   "outputs": [],
   "source": [
    "print(\"Describe pixel 569 for 8 digit: \\n\\n{}\".format(mnist_df.loc[mnist_df['Digit_label'] == 8]['pixel_569'].describe()))"
   ]
  },
  {
   "cell_type": "code",
   "execution_count": null,
   "metadata": {},
   "outputs": [],
   "source": [
    "print(\"Describe pixel 569 for 3 digit: \\n\\n{}\".format(mnist_df.loc[mnist_df['Digit_label'] == 3]['pixel_569'].describe()))"
   ]
  },
  {
   "cell_type": "code",
   "execution_count": null,
   "metadata": {},
   "outputs": [],
   "source": [
    "fig = plt.figure()\n",
    "fig.suptitle('Pixel 666 histogram')\n",
    "plt.xlabel('Pixel value')\n",
    "plt.ylabel('Number of entries')\n",
    "mnist_df['pixel_666'].hist()"
   ]
  },
  {
   "cell_type": "code",
   "execution_count": null,
   "metadata": {},
   "outputs": [],
   "source": [
    "mnist_df['pixel_666'].describe()\n",
    "\n",
    "fig = plt.figure()\n",
    "fig.suptitle('Pixel 666 histogram')\n",
    "plt.xlabel('Pixel value')\n",
    "plt.ylabel('Number of entries')\n",
    "mnist_df['pixel_666_log'] = np.log(mnist_df[mnist_df['pixel_666'] > 0]['pixel_666'])\n",
    "mnist_df['pixel_666_log'].fillna(0, inplace=True)\n",
    "mnist_df['pixel_666_log'].hist()"
   ]
  },
  {
   "cell_type": "code",
   "execution_count": null,
   "metadata": {},
   "outputs": [],
   "source": []
  }
 ],
 "metadata": {
  "kernelspec": {
   "display_name": "Python 2",
   "language": "python",
   "name": "python2"
  },
  "language_info": {
   "codemirror_mode": {
    "name": "ipython",
    "version": 2
   },
   "file_extension": ".py",
   "mimetype": "text/x-python",
   "name": "python",
   "nbconvert_exporter": "python",
   "pygments_lexer": "ipython2",
   "version": "2.7.12"
  }
 },
 "nbformat": 4,
 "nbformat_minor": 1
}
