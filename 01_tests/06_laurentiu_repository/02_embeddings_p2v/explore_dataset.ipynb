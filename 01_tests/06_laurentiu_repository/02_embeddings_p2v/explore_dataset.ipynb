{
 "cells": [
  {
   "cell_type": "code",
   "execution_count": 2,
   "metadata": {
    "collapsed": true
   },
   "outputs": [],
   "source": [
    "import pandas as pd\n",
    "import os\n",
    "\n",
    "base_dir = os.path.join(\"D:/\", \"Google Drive/_hyperloop_data/recom_compl/_data\")"
   ]
  },
  {
   "cell_type": "code",
   "execution_count": 3,
   "metadata": {},
   "outputs": [
    {
     "name": "stdout",
     "output_type": "stream",
     "text": [
      "Reading csv ...\n",
      "Fetched the dataset!\n",
      "Sz=123892563\n"
     ]
    }
   ],
   "source": [
    "print('Reading csv ...')\n",
    "df = pd.read_csv(os.path.join(base_dir, 'SORTED_TRANS.csv'))\n",
    "print('Fetched the dataset!')\n",
    "print(\"Sz={}\".format(len(df)))"
   ]
  },
  {
   "cell_type": "code",
   "execution_count": 7,
   "metadata": {},
   "outputs": [
    {
     "ename": "NameError",
     "evalue": "name 'df' is not defined",
     "output_type": "error",
     "traceback": [
      "\u001b[1;31m---------------------------------------------------------------------------\u001b[0m",
      "\u001b[1;31mNameError\u001b[0m                                 Traceback (most recent call last)",
      "\u001b[1;32m<ipython-input-7-19ee6b097d76>\u001b[0m in \u001b[0;36m<module>\u001b[1;34m()\u001b[0m\n\u001b[1;32m----> 1\u001b[1;33m \u001b[0mprint\u001b[0m\u001b[1;33m(\u001b[0m\u001b[0mdf\u001b[0m\u001b[1;33m.\u001b[0m\u001b[0mhead\u001b[0m\u001b[1;33m(\u001b[0m\u001b[1;36m5\u001b[0m\u001b[1;33m)\u001b[0m\u001b[1;33m)\u001b[0m\u001b[1;33m\u001b[0m\u001b[0m\n\u001b[0m\u001b[0;32m      2\u001b[0m \u001b[0mprint\u001b[0m\u001b[1;33m(\u001b[0m\u001b[0mdf\u001b[0m\u001b[1;33m.\u001b[0m\u001b[0miloc\u001b[0m\u001b[1;33m[\u001b[0m\u001b[1;33m-\u001b[0m\u001b[1;36m1\u001b[0m\u001b[1;33m]\u001b[0m\u001b[1;33m)\u001b[0m\u001b[1;33m\u001b[0m\u001b[0m\n\u001b[0;32m      3\u001b[0m \u001b[1;32mdel\u001b[0m \u001b[0mdf\u001b[0m\u001b[1;33m\u001b[0m\u001b[0m\n",
      "\u001b[1;31mNameError\u001b[0m: name 'df' is not defined"
     ]
    }
   ],
   "source": [
    "print(df.head(5))\n",
    "print(df.iloc[-1])"
   ]
  },
  {
   "cell_type": "code",
   "execution_count": 3,
   "metadata": {},
   "outputs": [
    {
     "name": "stdout",
     "output_type": "stream",
     "text": [
      "   ITEM_ID  NEW_ID                            PROD_NAME\n",
      "0  7472580       1        PARASINUS CT*20 CPR EUROPHARM\n",
      "1  2128895       2   NUROFEN FORTE 400MG CT*12DRJ BOOTS\n",
      "2  1068153       3  TERTENSIF SR 1.5MG CT*30DRJ SERVIER\n",
      "3  1055244       4          OMEZ 20MG CT*30CPS DR REDDY\n",
      "4  1065763       5         NEBILET 5MG *28CPR BERLIN CH\n"
     ]
    }
   ],
   "source": [
    "df_prod = pd.read_csv(os.path.join(base_dir, 'PROD.CSV'), encoding='ISO-8859-1')\n",
    "print(df_prod.head(5))"
   ]
  },
  {
   "cell_type": "code",
   "execution_count": null,
   "metadata": {
    "collapsed": true
   },
   "outputs": [],
   "source": [
    "sum(df.item_id==10000)"
   ]
  },
  {
   "cell_type": "code",
   "execution_count": null,
   "metadata": {
    "collapsed": true
   },
   "outputs": [],
   "source": [
    "print(\"500: {}\".format(sum(df.item_id==500)))\n",
    "print(\"1000: {}\".format(sum(df.item_id==1000)))\n",
    "print(\"1500: {}\".format(sum(df.item_id==1500)))\n",
    "print(\"2500: {}\".format(sum(df.item_id==2500)))"
   ]
  },
  {
   "cell_type": "code",
   "execution_count": null,
   "metadata": {
    "collapsed": true
   },
   "outputs": [],
   "source": [
    "print(df.cust_id.max())\n",
    "print(df.cust_id.min())\n",
    "print(df.item_id.max())\n",
    "print(df.item_id.min())\n",
    "print(df.timestamp.max())\n",
    "print(df.timestamp.min())"
   ]
  },
  {
   "cell_type": "code",
   "execution_count": null,
   "metadata": {
    "collapsed": true
   },
   "outputs": [],
   "source": [
    "num_items=df['item_id'].unique().shape[0]\n",
    "num_cust=df['cust_id'].unique().shape[0]\n",
    "print(\"Num_items={}\".format(num_items))\n",
    "print(\"Num_cust={}\".format(num_cust))"
   ]
  },
  {
   "cell_type": "code",
   "execution_count": null,
   "metadata": {
    "collapsed": true
   },
   "outputs": [],
   "source": [
    "approx_active_cust = 1700000\n",
    "tera_div = pow(1024,4)\n",
    "n_embeddings = 64"
   ]
  },
  {
   "cell_type": "code",
   "execution_count": null,
   "metadata": {
    "collapsed": true
   },
   "outputs": [],
   "source": [
    "dim_emb_64 = (approx_active_cust * num_items * n_embeddings * 4) / tera_div\n",
    "print(\"Dimensiunea in TB pt emb pe 64 float-uri: {:.2f}TB\".format(dim_emb_64))"
   ]
  },
  {
   "cell_type": "code",
   "execution_count": null,
   "metadata": {
    "collapsed": true
   },
   "outputs": [],
   "source": [
    "n_embeddings = 128\n",
    "dim_emb_128 = (approx_active_cust * num_items * n_embeddings * 4) / tera_div\n",
    "print(\"Dimensiunea in TB pt emb pe 128 float-uri: {:.2f}TB\".format(dim_emb_128))"
   ]
  },
  {
   "cell_type": "code",
   "execution_count": 4,
   "metadata": {
    "collapsed": true
   },
   "outputs": [],
   "source": [
    "df['dt'] =  pd.to_datetime(df['dt'], format=\"%Y-%m-%d %H:%M:%S.%f\")"
   ]
  },
  {
   "cell_type": "code",
   "execution_count": 5,
   "metadata": {
    "collapsed": true
   },
   "outputs": [],
   "source": [
    "df = df[['item_id', 'dt']]"
   ]
  },
  {
   "cell_type": "code",
   "execution_count": 6,
   "metadata": {
    "collapsed": true
   },
   "outputs": [],
   "source": [
    "from datetime import datetime as dt\n",
    "winter1_start = dt(2013, 9, 15)\n",
    "winter1_end = dt(2014, 3, 15)\n",
    "\n",
    "spring1_start = dt(2014, 3, 15)\n",
    "spring1_end = dt(2014, 9, 15)\n",
    "\n",
    "winter2_start = dt(2014, 9, 15)\n",
    "winter2_end = dt(2015, 3, 15)\n",
    "\n",
    "spring2_start = dt(2015, 3, 15)\n",
    "spring2_end = dt(2015, 9, 15)\n",
    "\n",
    "winter3_start = dt(2015, 9, 15)\n",
    "winter3_end = dt(2016, 3, 15)\n",
    "\n",
    "spring3_start = dt(2016, 3, 15)\n",
    "spring3_end = dt(2016, 9, 15)\n",
    "\n",
    "winter4_start = dt(2016, 9, 15)\n",
    "winter4_end = dt(2017, 3, 15)\n",
    "\n",
    "spring4_start = dt(2017, 3, 15)\n",
    "spring4_end = dt(2017, 9, 15)"
   ]
  },
  {
   "cell_type": "code",
   "execution_count": 7,
   "metadata": {
    "collapsed": true
   },
   "outputs": [],
   "source": [
    "hot_period = pd.DataFrame(columns=['item_id', 'dt'])\n",
    "cold_period = pd.DataFrame(columns=['item_id', 'dt'])"
   ]
  },
  {
   "cell_type": "code",
   "execution_count": 8,
   "metadata": {
    "collapsed": true
   },
   "outputs": [],
   "source": [
    "winter1 = df[(df['dt'] >= winter1_start) & (df['dt'] <= winter1_end)]\n",
    "spring1 = df[(df['dt'] >= spring1_start) & (df['dt'] <= spring1_end)]\n",
    "\n",
    "winter2 = df[(df['dt'] >= winter2_start) & (df['dt'] <= winter2_end)]\n",
    "spring2 = df[(df['dt'] >= spring2_start) & (df['dt'] <= spring2_end)]\n",
    "\n",
    "winter3 = df[(df['dt'] >= winter3_start) & (df['dt'] <= winter3_end)]\n",
    "spring3 = df[(df['dt'] >= spring3_start) & (df['dt'] <= spring3_end)]\n",
    "\n",
    "winter4 = df[(df['dt'] >= winter4_start) & (df['dt'] <= winter4_end)]\n",
    "spring4 = df[(df['dt'] >= spring4_start) & (df['dt'] <= spring4_end)]"
   ]
  },
  {
   "cell_type": "code",
   "execution_count": 9,
   "metadata": {},
   "outputs": [
    {
     "data": {
      "text/plain": [
       "123892563"
      ]
     },
     "execution_count": 9,
     "metadata": {},
     "output_type": "execute_result"
    }
   ],
   "source": [
    "winter1.shape[0] + spring1.shape[0] + winter2.shape[0] + spring2.shape[0] + winter3.shape[0] + spring3.shape[0] + winter4.shape[0] + spring4.shape[0]"
   ]
  },
  {
   "cell_type": "code",
   "execution_count": 10,
   "metadata": {
    "collapsed": true
   },
   "outputs": [],
   "source": [
    "hot_period = hot_period.append(spring1)\n",
    "hot_period = hot_period.append(spring2)\n",
    "hot_period = hot_period.append(spring3)\n",
    "hot_period = hot_period.append(spring4)"
   ]
  },
  {
   "cell_type": "code",
   "execution_count": 11,
   "metadata": {
    "collapsed": true
   },
   "outputs": [],
   "source": [
    "cold_period = cold_period.append(winter1)\n",
    "cold_period = cold_period.append(winter2)\n",
    "cold_period = cold_period.append(winter3)\n",
    "cold_period = cold_period.append(winter4)"
   ]
  },
  {
   "cell_type": "code",
   "execution_count": 40,
   "metadata": {
    "collapsed": true
   },
   "outputs": [],
   "source": [
    "hot_period.to_csv(os.path.join(base_dir, 'HOT_PERIOD_TRANS.csv'))"
   ]
  },
  {
   "cell_type": "code",
   "execution_count": 41,
   "metadata": {
    "collapsed": true
   },
   "outputs": [],
   "source": [
    "cold_period.to_csv(os.path.join(base_dir, 'COLD_PERIOD_TRANS.csv'))"
   ]
  },
  {
   "cell_type": "code",
   "execution_count": 12,
   "metadata": {
    "collapsed": true
   },
   "outputs": [],
   "source": [
    "import numpy as np\n",
    "hot_data = np.array(hot_period['item_id']) - 1\n",
    "cold_data = np.array(cold_period['item_id']) - 1"
   ]
  },
  {
   "cell_type": "code",
   "execution_count": 62,
   "metadata": {
    "collapsed": true
   },
   "outputs": [],
   "source": [
    "hot_data.dump(os.path.join(base_dir, 'CLEANED_DATA_TRANS_HOT_SEASON.p'))"
   ]
  },
  {
   "cell_type": "code",
   "execution_count": 63,
   "metadata": {
    "collapsed": true
   },
   "outputs": [],
   "source": [
    "cold_data.dump(os.path.join(base_dir, 'CLEANED_DATA_TRANS_COLD_SEASON.p'))"
   ]
  },
  {
   "cell_type": "code",
   "execution_count": 8,
   "metadata": {},
   "outputs": [
    {
     "name": "stdout",
     "output_type": "stream",
     "text": [
      "Reading csv ...\n",
      "Fetched the dataset!\n",
      "Sz=123892563\n"
     ]
    }
   ],
   "source": [
    "print('Reading csv ...')\n",
    "df_all = pd.read_csv(os.path.join(base_dir, 'CUST_ITEM_TIME.csv'))\n",
    "print('Fetched the dataset!')\n",
    "print(\"Sz={}\".format(len(df_all)))"
   ]
  },
  {
   "cell_type": "code",
   "execution_count": 12,
   "metadata": {},
   "outputs": [],
   "source": [
    "df_all.columns = ['CUST_ID', 'ITEM_ID', 'TIMESTAMP']"
   ]
  },
  {
   "cell_type": "code",
   "execution_count": 14,
   "metadata": {},
   "outputs": [
    {
     "name": "stdout",
     "output_type": "stream",
     "text": [
      "Reading csv ...\n",
      "Fetched the dataset!\n",
      "Sz=72172070\n"
     ]
    }
   ],
   "source": [
    "print('Reading csv ...')\n",
    "df_agg = pd.read_csv(os.path.join(base_dir, 'AGGREGATED_TRANS.csv'))\n",
    "print('Fetched the dataset!')\n",
    "print(\"Sz={}\".format(len(df_agg)))"
   ]
  },
  {
   "cell_type": "code",
   "execution_count": null,
   "metadata": {},
   "outputs": [],
   "source": [
    "df_agg2 = df_all.groupby(['CUST_ID', 'ITEM_ID']).agg({'TIMESTAMP': 'max'})"
   ]
  },
  {
   "cell_type": "code",
   "execution_count": 17,
   "metadata": {},
   "outputs": [],
   "source": [
    "df_agg.columns = ['CUST_ID', 'ITEM_ID', 'QTY', 'AMOUNT']"
   ]
  },
  {
   "cell_type": "code",
   "execution_count": 18,
   "metadata": {},
   "outputs": [
    {
     "data": {
      "text/plain": [
       "(27006,)"
      ]
     },
     "execution_count": 18,
     "metadata": {},
     "output_type": "execute_result"
    }
   ],
   "source": [
    "df_agg['ITEM_ID'].unique().shape"
   ]
  },
  {
   "cell_type": "code",
   "execution_count": null,
   "metadata": {},
   "outputs": [],
   "source": []
  },
  {
   "cell_type": "code",
   "execution_count": null,
   "metadata": {
    "collapsed": true
   },
   "outputs": [],
   "source": []
  }
 ],
 "metadata": {
  "kernelspec": {
   "display_name": "Python 3",
   "language": "python",
   "name": "python3"
  }
 },
 "nbformat": 4,
 "nbformat_minor": 2
}
