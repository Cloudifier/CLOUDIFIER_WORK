{
 "cells": [
  {
   "cell_type": "code",
   "execution_count": 1,
   "metadata": {
    "collapsed": true
   },
   "outputs": [],
   "source": [
    "import pandas as pd\n",
    "import os\n",
    "\n",
    "base_dir = os.path.join(\"D:/\", \"Google Drive/_hyperloop_data/recom_compl/_data\")"
   ]
  },
  {
   "cell_type": "code",
   "execution_count": 2,
   "metadata": {},
   "outputs": [
    {
     "name": "stdout",
     "output_type": "stream",
     "text": [
      "Reading csv ...\n",
      "Fetched the dataset!\n",
      "Sz=123892563\n"
     ]
    }
   ],
   "source": [
    "print('Reading csv ...')\n",
    "df = pd.read_csv(os.path.join(base_dir, 'SORTED_TRANS.csv'))\n",
    "print('Fetched the dataset!')\n",
    "print(\"Sz={}\".format(len(df)))\n",
    "#df.columns = ['cust_id', 'timestamp', 'item_id']"
   ]
  },
  {
   "cell_type": "code",
   "execution_count": null,
   "metadata": {
    "collapsed": true
   },
   "outputs": [],
   "source": [
    "print(df.head(5))"
   ]
  },
  {
   "cell_type": "code",
   "execution_count": null,
   "metadata": {
    "collapsed": true
   },
   "outputs": [],
   "source": [
    "df_prod = pd.read_csv(os.path.join(base_dir, 'PROD.CSV'), encoding='ISO-8859-1')\n",
    "print(df_prod.head(5))"
   ]
  },
  {
   "cell_type": "code",
   "execution_count": null,
   "metadata": {
    "collapsed": true
   },
   "outputs": [],
   "source": [
    "sum(df.item_id==10000)"
   ]
  },
  {
   "cell_type": "code",
   "execution_count": null,
   "metadata": {
    "collapsed": true
   },
   "outputs": [],
   "source": [
    "print(\"500: {}\".format(sum(df.item_id==500)))\n",
    "print(\"1000: {}\".format(sum(df.item_id==1000)))\n",
    "print(\"1500: {}\".format(sum(df.item_id==1500)))\n",
    "print(\"2500: {}\".format(sum(df.item_id==2500)))"
   ]
  },
  {
   "cell_type": "code",
   "execution_count": null,
   "metadata": {
    "collapsed": true
   },
   "outputs": [],
   "source": [
    "print(df.cust_id.max())\n",
    "print(df.cust_id.min())\n",
    "print(df.item_id.max())\n",
    "print(df.item_id.min())\n",
    "print(df.timestamp.max())\n",
    "print(df.timestamp.min())"
   ]
  },
  {
   "cell_type": "code",
   "execution_count": null,
   "metadata": {
    "collapsed": true
   },
   "outputs": [],
   "source": [
    "num_items=df['item_id'].unique().shape[0]\n",
    "num_cust=df['cust_id'].unique().shape[0]\n",
    "print(\"Num_items={}\".format(num_items))\n",
    "print(\"Num_cust={}\".format(num_cust))"
   ]
  },
  {
   "cell_type": "code",
   "execution_count": null,
   "metadata": {
    "collapsed": true
   },
   "outputs": [],
   "source": [
    "approx_active_cust = 1700000\n",
    "tera_div = pow(1024,4)\n",
    "n_embeddings = 64"
   ]
  },
  {
   "cell_type": "code",
   "execution_count": null,
   "metadata": {
    "collapsed": true
   },
   "outputs": [],
   "source": [
    "dim_emb_64 = (approx_active_cust * num_items * n_embeddings * 4) / tera_div\n",
    "print(\"Dimensiunea in TB pt emb pe 64 float-uri: {:.2f}TB\".format(dim_emb_64))"
   ]
  },
  {
   "cell_type": "code",
   "execution_count": null,
   "metadata": {
    "collapsed": true
   },
   "outputs": [],
   "source": [
    "n_embeddings = 128\n",
    "dim_emb_128 = (approx_active_cust * num_items * n_embeddings * 4) / tera_div\n",
    "print(\"Dimensiunea in TB pt emb pe 128 float-uri: {:.2f}TB\".format(dim_emb_128))"
   ]
  },
  {
   "cell_type": "code",
   "execution_count": 3,
   "metadata": {
    "collapsed": true
   },
   "outputs": [],
   "source": [
    "df['dt'] =  pd.to_datetime(df['dt'], format=\"%Y-%m-%d %H:%M:%S.%f\")"
   ]
  },
  {
   "cell_type": "code",
   "execution_count": 29,
   "metadata": {
    "collapsed": true
   },
   "outputs": [],
   "source": [
    "df = df[['item_id', 'dt']]"
   ]
  },
  {
   "cell_type": "code",
   "execution_count": 28,
   "metadata": {
    "collapsed": true
   },
   "outputs": [],
   "source": [
    "from datetime import datetime as dt\n",
    "winter1_start = dt(2013, 9, 15)\n",
    "winter1_end = dt(2014, 3, 15)\n",
    "\n",
    "spring1_start = dt(2014, 3, 15)\n",
    "spring1_end = dt(2014, 9, 15)\n",
    "\n",
    "winter2_start = dt(2014, 9, 15)\n",
    "winter2_end = dt(2015, 3, 15)\n",
    "\n",
    "spring2_start = dt(2015, 3, 15)\n",
    "spring2_end = dt(2015, 9, 15)\n",
    "\n",
    "winter3_start = dt(2015, 9, 15)\n",
    "winter3_end = dt(2016, 3, 15)\n",
    "\n",
    "spring3_start = dt(2016, 3, 15)\n",
    "spring3_end = dt(2016, 9, 15)\n",
    "\n",
    "winter4_start = dt(2016, 9, 15)\n",
    "winter4_end = dt(2017, 3, 15)\n",
    "\n",
    "spring4_start = dt(2017, 3, 15)\n",
    "spring4_end = dt(2017, 9, 15)"
   ]
  },
  {
   "cell_type": "code",
   "execution_count": 30,
   "metadata": {
    "collapsed": true
   },
   "outputs": [],
   "source": [
    "hot_period = pd.DataFrame(columns=['item_id', 'dt'])\n",
    "cold_period = pd.DataFrame(columns=['item_id', 'dt'])"
   ]
  },
  {
   "cell_type": "code",
   "execution_count": 31,
   "metadata": {
    "collapsed": true
   },
   "outputs": [],
   "source": [
    "winter1 = df[(df['dt'] >= winter1_start) & (df['dt'] <= winter1_end)]\n",
    "spring1 = df[(df['dt'] >= spring1_start) & (df['dt'] <= spring1_end)]\n",
    "\n",
    "winter2 = df[(df['dt'] >= winter2_start) & (df['dt'] <= winter2_end)]\n",
    "spring2 = df[(df['dt'] >= spring2_start) & (df['dt'] <= spring2_end)]\n",
    "\n",
    "winter3 = df[(df['dt'] >= winter3_start) & (df['dt'] <= winter3_end)]\n",
    "spring3 = df[(df['dt'] >= spring3_start) & (df['dt'] <= spring3_end)]\n",
    "\n",
    "winter4 = df[(df['dt'] >= winter4_start) & (df['dt'] <= winter4_end)]\n",
    "spring4 = df[(df['dt'] >= spring4_start) & (df['dt'] <= spring4_end)]"
   ]
  },
  {
   "cell_type": "code",
   "execution_count": 32,
   "metadata": {},
   "outputs": [
    {
     "data": {
      "text/plain": [
       "123892563"
      ]
     },
     "execution_count": 32,
     "metadata": {},
     "output_type": "execute_result"
    }
   ],
   "source": [
    "winter1.shape[0] + spring1.shape[0] + winter2.shape[0] + spring2.shape[0] + winter3.shape[0] + spring3.shape[0] + winter4.shape[0] + spring4.shape[0]"
   ]
  },
  {
   "cell_type": "code",
   "execution_count": 34,
   "metadata": {
    "collapsed": true
   },
   "outputs": [],
   "source": [
    "hot_period = hot_period.append(spring1)\n",
    "hot_period = hot_period.append(spring2)\n",
    "hot_period = hot_period.append(spring3)\n",
    "hot_period = hot_period.append(spring4)"
   ]
  },
  {
   "cell_type": "code",
   "execution_count": 35,
   "metadata": {
    "collapsed": true
   },
   "outputs": [],
   "source": [
    "cold_period = cold_period.append(winter1)\n",
    "cold_period = cold_period.append(winter2)\n",
    "cold_period = cold_period.append(winter3)\n",
    "cold_period = cold_period.append(winter4)"
   ]
  },
  {
   "cell_type": "code",
   "execution_count": 40,
   "metadata": {
    "collapsed": true
   },
   "outputs": [],
   "source": [
    "hot_period.to_csv(os.path.join(base_dir, 'HOT_PERIOD_TRANS.csv'))"
   ]
  },
  {
   "cell_type": "code",
   "execution_count": 41,
   "metadata": {
    "collapsed": true
   },
   "outputs": [],
   "source": [
    "cold_period.to_csv(os.path.join(base_dir, 'COLD_PERIOD_TRANS.csv'))"
   ]
  },
  {
   "cell_type": "code",
   "execution_count": 61,
   "metadata": {
    "collapsed": true
   },
   "outputs": [],
   "source": [
    "import numpy as np\n",
    "hot_data = np.array(hot_period['item_id']) - 1\n",
    "cold_data = np.array(cold_period['item_id']) - 1"
   ]
  },
  {
   "cell_type": "code",
   "execution_count": 62,
   "metadata": {
    "collapsed": true
   },
   "outputs": [],
   "source": [
    "hot_data.dump(os.path.join(base_dir, 'CLEANED_DATA_TRANS_HOT_SEASON.p'))"
   ]
  },
  {
   "cell_type": "code",
   "execution_count": 63,
   "metadata": {
    "collapsed": true
   },
   "outputs": [],
   "source": [
    "cold_data.dump(os.path.join(base_dir, 'CLEANED_DATA_TRANS_COLD_SEASON.p'))"
   ]
  },
  {
   "cell_type": "code",
   "execution_count": 73,
   "metadata": {},
   "outputs": [
    {
     "data": {
      "text/plain": [
       "array([ True,  True,  True, ...,  True,  True,  True], dtype=bool)"
      ]
     },
     "execution_count": 73,
     "metadata": {},
     "output_type": "execute_result"
    }
   ],
   "source": []
  },
  {
   "cell_type": "code",
   "execution_count": 74,
   "metadata": {},
   "outputs": [
    {
     "data": {
      "text/plain": [
       "array([2272, 474, 2624, ..., 249, 533, 241], dtype=object)"
      ]
     },
     "execution_count": 74,
     "metadata": {},
     "output_type": "execute_result"
    }
   ],
   "source": [
    "b"
   ]
  },
  {
   "cell_type": "code",
   "execution_count": 75,
   "metadata": {},
   "outputs": [
    {
     "data": {
      "text/plain": [
       "123892563"
      ]
     },
     "execution_count": 75,
     "metadata": {},
     "output_type": "execute_result"
    }
   ],
   "source": [
    "a.shape[0] + b.shape[0]"
   ]
  },
  {
   "cell_type": "code",
   "execution_count": 76,
   "metadata": {},
   "outputs": [
    {
     "data": {
      "text/plain": [
       "123892563"
      ]
     },
     "execution_count": 76,
     "metadata": {},
     "output_type": "execute_result"
    }
   ],
   "source": [
    "c.shape[0]"
   ]
  },
  {
   "cell_type": "code",
   "execution_count": 2,
   "metadata": {
    "collapsed": true
   },
   "outputs": [],
   "source": [
    "df_aggregated = pd.read_csv(os.path.join(base_dir, 'AGGREGATED_TRANS.csv'))"
   ]
  },
  {
   "cell_type": "code",
   "execution_count": 4,
   "metadata": {},
   "outputs": [
    {
     "data": {
      "text/html": [
       "<div>\n",
       "<style>\n",
       "    .dataframe thead tr:only-child th {\n",
       "        text-align: right;\n",
       "    }\n",
       "\n",
       "    .dataframe thead th {\n",
       "        text-align: left;\n",
       "    }\n",
       "\n",
       "    .dataframe tbody tr th {\n",
       "        vertical-align: top;\n",
       "    }\n",
       "</style>\n",
       "<table border=\"1\" class=\"dataframe\">\n",
       "  <thead>\n",
       "    <tr style=\"text-align: right;\">\n",
       "      <th></th>\n",
       "      <th>2000105394</th>\n",
       "      <th>2145549</th>\n",
       "      <th>3.0000</th>\n",
       "      <th>65.586300000000008</th>\n",
       "    </tr>\n",
       "  </thead>\n",
       "  <tbody>\n",
       "    <tr>\n",
       "      <th>0</th>\n",
       "      <td>8830003</td>\n",
       "      <td>5340903</td>\n",
       "      <td>0.5000</td>\n",
       "      <td>3.8100</td>\n",
       "    </tr>\n",
       "    <tr>\n",
       "      <th>1</th>\n",
       "      <td>4046395</td>\n",
       "      <td>7510110</td>\n",
       "      <td>6.3333</td>\n",
       "      <td>129.7210</td>\n",
       "    </tr>\n",
       "    <tr>\n",
       "      <th>2</th>\n",
       "      <td>8131065</td>\n",
       "      <td>7510729</td>\n",
       "      <td>2.0000</td>\n",
       "      <td>20.3945</td>\n",
       "    </tr>\n",
       "    <tr>\n",
       "      <th>3</th>\n",
       "      <td>2167656</td>\n",
       "      <td>7478933</td>\n",
       "      <td>5.0000</td>\n",
       "      <td>48.9445</td>\n",
       "    </tr>\n",
       "    <tr>\n",
       "      <th>4</th>\n",
       "      <td>8438925</td>\n",
       "      <td>7514268</td>\n",
       "      <td>1.0000</td>\n",
       "      <td>4.3016</td>\n",
       "    </tr>\n",
       "  </tbody>\n",
       "</table>\n",
       "</div>"
      ],
      "text/plain": [
       "   2000105394  2145549  3.0000  65.586300000000008\n",
       "0     8830003  5340903  0.5000              3.8100\n",
       "1     4046395  7510110  6.3333            129.7210\n",
       "2     8131065  7510729  2.0000             20.3945\n",
       "3     2167656  7478933  5.0000             48.9445\n",
       "4     8438925  7514268  1.0000              4.3016"
      ]
     },
     "execution_count": 4,
     "metadata": {},
     "output_type": "execute_result"
    }
   ],
   "source": [
    "df_aggregated"
   ]
  },
  {
   "cell_type": "code",
   "execution_count": null,
   "metadata": {
    "collapsed": true
   },
   "outputs": [],
   "source": []
  }
 ],
 "metadata": {
  "kernelspec": {
   "display_name": "Python 3",
   "language": "python",
   "name": "python3"
  },
  "language_info": {
   "codemirror_mode": {
    "name": "ipython",
    "version": 3
   },
   "file_extension": ".py",
   "mimetype": "text/x-python",
   "name": "python",
   "nbconvert_exporter": "python",
   "pygments_lexer": "ipython3",
   "version": "3.6.3"
  }
 },
 "nbformat": 4,
 "nbformat_minor": 2
}
