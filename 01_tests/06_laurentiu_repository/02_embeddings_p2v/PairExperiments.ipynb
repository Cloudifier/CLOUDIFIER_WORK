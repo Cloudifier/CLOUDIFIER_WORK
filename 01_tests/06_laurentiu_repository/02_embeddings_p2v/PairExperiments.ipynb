{
 "cells": [
  {
   "cell_type": "code",
   "execution_count": 1,
   "metadata": {
    "collapsed": true
   },
   "outputs": [],
   "source": [
    "import pandas as pd\n",
    "import numpy as np\n",
    "from scipy.sparse import load_npz\n",
    "from sklearn.metrics import pairwise_distances\n",
    "import multiprocessing"
   ]
  },
  {
   "cell_type": "code",
   "execution_count": 2,
   "metadata": {
    "collapsed": true
   },
   "outputs": [],
   "source": [
    "mco = load_npz('D:/Google Drive/_hyperloop_data/recom_compl_2014_2017/_data/all/mco_f32.npz')"
   ]
  },
  {
   "cell_type": "code",
   "execution_count": 3,
   "metadata": {
    "collapsed": true
   },
   "outputs": [],
   "source": [
    "class OpExperimentsHelper:\n",
    "    def __init__(self, model_csv, emb_start_slice, emb_end_slice, distances='cosine'):\n",
    "        self.df = pd.read_csv(model_csv, encoding='ISO-8859-1')\n",
    "        self.embeddings = np.array(self.df.loc[:, emb_start_slice:emb_end_slice], dtype=np.float32)\n",
    "        self.distances = distances\n",
    "        print(\"Loaded model with {} distances.\".format(self.distances.upper()))\n",
    "        return\n",
    "\n",
    "    def DifAvgExp(self, dict_pairs):\n",
    "        for key, value in dict_pairs.items():\n",
    "            print(key)\n",
    "            p1 = value[0]\n",
    "            p2 = value[1]\n",
    "            print(\"#1. SELECTED:\\n{}\".format(self.df.loc[[p1,p2],'ITEM_NAME']))\n",
    "            prod_a = self.embeddings[p1]\n",
    "            prod_b = self.embeddings[p2]\n",
    "            if self.distances.lower() == \"cosine\":\n",
    "                sym = prod_a.dot(prod_b)\n",
    "            else:\n",
    "                sym = np.sqrt(np.sum((prod_a-prod_b)**2))\n",
    "            print(\"\\n#2. {} DISTANCE BETWEEN SELECTED PRODUCTS: {:.3f}\".format(self.distances.upper(), sym))\n",
    "\n",
    "            \n",
    "            if self.distances.lower() == \"cosine\":\n",
    "                dist_a = 1 - self.embeddings.dot(prod_a)\n",
    "                dist_b = 1 - self.embeddings.dot(prod_b)\n",
    "            else:\n",
    "                dist_a = pairwise_distances(prod_a.reshape(1,-1), self.embeddings).flatten()\n",
    "                dist_b = pairwise_distances(prod_b.reshape(1,-1), self.embeddings).flatten()\n",
    "            \n",
    "            K = 10\n",
    "            print(\"\\n#3.1. TOP K P1\")\n",
    "            top_k_indexes = np.argsort(dist_a)[1 : (K + 1)]\n",
    "            print(\"{}\".format(self.df.loc[top_k_indexes,['ITEM_NAME']]))\n",
    "            \n",
    "            print(\"\\n#3.2. TOP K P2\")\n",
    "            top_k_indexes = np.argsort(dist_b)[1 : (K + 1)]\n",
    "            print(\"{}\".format(self.df.loc[top_k_indexes,['ITEM_NAME']]))\n",
    "\n",
    "            print(\"\\n#4. Diff vect\")\n",
    "            diff_vect = prod_a - prod_b\n",
    "            \n",
    "            if self.distances.lower() == \"cosine\":\n",
    "                diff_vect = diff_vect / np.sqrt(np.sum(diff_vect ** 2))\n",
    "                dist = self.embeddings.dot(diff_vect)\n",
    "            else:\n",
    "                dist = pairwise_distances(diff_vect.reshape(1,-1), self.embeddings).flatten()\n",
    "            \n",
    "            top_k_indexes = np.argsort(dist)\n",
    "            top_k_indexes_minus = top_k_indexes[:K]\n",
    "            top_k_indexes_plus = top_k_indexes[-(K+1):]\n",
    "\n",
    "            distances_minus = dist[top_k_indexes_minus]\n",
    "            distances_plus = dist[top_k_indexes_plus]\n",
    "            df_minus = self.df.loc[top_k_indexes_minus,['ITEM_NAME']]\n",
    "            df_minus['COSDIST'] = distances_minus\n",
    "            df_plus = self.df.loc[top_k_indexes_plus,['ITEM_NAME']]\n",
    "            df_plus['COSDIST'] = distances_plus\n",
    "\n",
    "            co_occ_scores = mco[prod_a]\n",
    "            list_scores = []\n",
    "            for idx in (top_k_indexes_plus + 1):\n",
    "                list_scores.append(co_occ_scores[0, idx])\n",
    "            \n",
    "            df_plus['MCO'] = list_scores\n",
    "            \n",
    "            co_occ_scores = mco[prod_b]\n",
    "            list_scores = []\n",
    "            for idx in (top_k_indexes_minus + 1):\n",
    "                list_scores.append(co_occ_scores[0, idx])\n",
    "            df_minus['MCO'] = list_scores\n",
    "\n",
    "\n",
    "            print(\"{}\".format(df_minus))\n",
    "            print(\"{}\".format(df_plus))\n",
    "\n",
    "            print(\"\\n#5. Average vector:\")\n",
    "            avg_vect = (prod_a + prod_b) / 2\n",
    "            dist = self.embeddings.dot(avg_vect)\n",
    "\n",
    "            top_k_indexes = np.argsort(dist)\n",
    "            top_k_indexes_minus = top_k_indexes[:K]\n",
    "            top_k_indexes_plus = top_k_indexes[-(K+1):]\n",
    "\n",
    "            distances_minus = dist[top_k_indexes_minus]\n",
    "            distances_plus = dist[top_k_indexes_plus]\n",
    "            df_minus = self.df.loc[top_k_indexes_minus,['ITEM_NAME']]\n",
    "            df_minus['COSDIST'] = distances_minus\n",
    "            df_plus = self.df.loc[top_k_indexes_plus,['ITEM_NAME']]\n",
    "            df_plus['COSDIST'] = distances_plus\n",
    "\n",
    "\n",
    "            print(\"{}\".format(df_minus))\n",
    "            print(\"{}\".format(df_plus))\n",
    "\n",
    "            print()\n",
    "            print()\n",
    "            print()\n",
    "\n",
    "        return"
   ]
  },
  {
   "cell_type": "code",
   "execution_count": 4,
   "metadata": {
    "collapsed": true
   },
   "outputs": [],
   "source": [
    "dict_pairs = {\n",
    "    \"NUROFEN_IBUPROFEN\": (7, 1638),\n",
    "    \"SECOM-C 1G_GNCC 1G\": (871, 2125),\n",
    "    \"CREMAMAINI_VITA\": (3317, 456)\n",
    "}"
   ]
  },
  {
   "cell_type": "code",
   "execution_count": 5,
   "metadata": {},
   "outputs": [
    {
     "name": "stdout",
     "output_type": "stream",
     "text": [
      "Loaded model with COSINE distances.\n",
      "Loaded model with EUCLIDEAN distances.\n"
     ]
    }
   ],
   "source": [
    "sg_128_cos = OpExperimentsHelper('D:/Google Drive/_hyperloop_data/recom_compl_2014_2017/_models/11.02.2018/20180210_Prod2Vec_fullseasons_cosine.csv',\n",
    "                                'EMB1',\n",
    "                                'EMB128',\n",
    "                                distances='cosine')\n",
    "\n",
    "sg_128_euc = OpExperimentsHelper('D:/Google Drive/_hyperloop_data/recom_compl_2014_2017/_models/11.02.2018/20180210_Prod2Vec_fullseasons_euclid.csv',\n",
    "                                'EMB1',\n",
    "                                'EMB128',\n",
    "                                distances='euclidean')"
   ]
  },
  {
   "cell_type": "code",
   "execution_count": 6,
   "metadata": {
    "scrolled": false
   },
   "outputs": [
    {
     "name": "stdout",
     "output_type": "stream",
     "text": [
      "NUROFEN_IBUPROFEN\n",
      "#1. SELECTED:\n",
      "7       NUROFEN RACEALA SI GRIPA *24CPR F\n",
      "1638       IBUPROFEN 200MG CT*20CPR CIPLA\n",
      "Name: ITEM_NAME, dtype: object\n",
      "\n",
      "#2. COSINE DISTANCE BETWEEN SELECTED PRODUCTS: 0.039\n",
      "\n",
      "#3.1. TOP K P1\n",
      "                                             ITEM_NAME\n",
      "15             NUROFEN RACEALA SI GRIPA *12CPR F BOOTS\n",
      "152                       ASPIRIN BAYER+C CT*10CPR EFF\n",
      "83                        ASPIRIN BAYER+C CT*20CPR EFF\n",
      "47            IBUSINUS RACEALA & GRIPA*20 CPR SOLACIUM\n",
      "160                      MODAFEN CT*24CPR FILM ZENTIVA\n",
      "3464         ABOCA GRINTUSS TUSE SIROP ADULTI FL*180ML\n",
      "250                       HUMAGRIP CT*12 CPR+4CPS URGO\n",
      "1629          MUCOSOLVAN SIR 30MG/5ML 100ML BOEHRINGER\n",
      "1428                  STREPSILS INTENSIV SPRAY FL*15ML\n",
      "594   TANTUM VERDE SPRAY 0.3% 15ML CSC PHARMACEUTICALS\n",
      "\n",
      "#3.2. TOP K P2\n",
      "                                    ITEM_NAME\n",
      "327            IBUPROFEN 400MG CT*20CPR CIPLA\n",
      "189            IBUPROFEN 600MG CT*20CPR CIPLA\n",
      "3349  IBUFEN 200MG CT* 20CPR FILM ANTIBIOTICE\n",
      "913                  ADAGIN 200MG*10 CPR FILM\n",
      "3144          RUPAN 200MG CT*10CPR MEDOCHEMIE\n",
      "36          BRUFEN 400MG CT*30CPR FILM ABBOTT\n",
      "1733               NUROFEN 12+ 200MG CT*10DRJ\n",
      "237              NUROFEN 200MG CT*12DRJ BOOTS\n",
      "133                  ADAGIN 400MG*10 CPR FILM\n",
      "1865                   PANAFEN 400MG CT*12CPS\n",
      "\n",
      "#4. Diff vect\n",
      "                                               ITEM_NAME   COSDIST  MCO\n",
      "1638                      IBUPROFEN 200MG CT*20CPR CIPLA -0.693256  0.0\n",
      "327                       IBUPROFEN 400MG CT*20CPR CIPLA -0.521297  0.0\n",
      "3349             IBUFEN 200MG CT* 20CPR FILM ANTIBIOTICE -0.452715  0.0\n",
      "189                       IBUPROFEN 600MG CT*20CPR CIPLA -0.416525  0.0\n",
      "3144                     RUPAN 200MG CT*10CPR MEDOCHEMIE -0.410026  0.0\n",
      "913                             ADAGIN 200MG*10 CPR FILM -0.409299  0.0\n",
      "1483                               SANTEPIRIN 75MG*40CPR -0.369896  0.0\n",
      "24652  GNC PRO PERFORMANCE 100% PROTEINA DIN ZER FL*4... -0.347280  0.0\n",
      "1422                      KETOPROXIN 100MG CT*20CPR FILM -0.343418  0.0\n",
      "36                     BRUFEN 400MG CT*30CPR FILM ABBOTT -0.334503  0.0\n",
      "                                               ITEM_NAME   COSDIST  MCO\n",
      "16059                           MELVITA CADOU ARGAN 2015  0.340376  0.0\n",
      "17684                MELVITA UNT DE CORP CU MACESE 100ML  0.350994  0.0\n",
      "5535                         ADERMA CREMA DE MAINI*50 ML  0.367270  0.0\n",
      "4183      L'ERBOLARIO ARGAN BALSAM DE BUZE*4.5ML COD 451  0.368280  0.0\n",
      "11058                 MELVITA ARGAN BIO CREMA MAINI 75ML  0.371419  0.0\n",
      "4894      L'ERBOLARIO ARGAN CREMA DE CORP*250 ML COD 319  0.371988  0.0\n",
      "83                          ASPIRIN BAYER+C CT*20CPR EFF  0.377448  0.0\n",
      "4618   L'ERBOLARIO ARGAN CREMA MAINI ANTIRID*75ML COD...  0.386876  0.0\n",
      "2468                VOLTAREN FORTE GEL 23.2MG/G FL*100GR  0.403472  0.0\n",
      "15               NUROFEN RACEALA SI GRIPA *12CPR F BOOTS  0.424272  0.0\n",
      "7                      NUROFEN RACEALA SI GRIPA *24CPR F  0.693256  0.0\n",
      "\n",
      "#5. Average vector:\n",
      "                                               ITEM_NAME   COSDIST\n",
      "25140          K'S KIDS KBA16023 TETINA SILICON 0-3 LUNI -0.234367\n",
      "23663                   COSMO CA+MG+ZINC 30CPR (TISHCON) -0.226870\n",
      "2991             GABAGAMMA 100MG CT*100CPS WORWAG PHARMA -0.223055\n",
      "3108                 GABAPENTIN AUROBINDO 300MG CT*50CPS -0.217865\n",
      "25741  CITIZEN ADAPTOR TENSIOMETRU 22O V MODEL AC - 2... -0.211454\n",
      "773                   TROMBEX 75MG CT*30CPR FILM BLISTER -0.206929\n",
      "24230          KILOKILLER TABLETE EFERVESCENTE (3X14 TB) -0.200463\n",
      "2727               CADUET 10MG+10MG CT*30CPR FILM PFIZER -0.190282\n",
      "80                        ATORIS 20MG CT*30CPR FILM KRKA -0.188869\n",
      "124                        NITROMINT R 2.6MG *60CPR EGIS -0.184698\n",
      "                                     ITEM_NAME   COSDIST\n",
      "152               ASPIRIN BAYER+C CT*10CPR EFF  0.346533\n",
      "237               NUROFEN 200MG CT*12DRJ BOOTS  0.351898\n",
      "374            DECASEPT LAMAIE 20 CPR AMNIOCEN  0.360130\n",
      "52                    DECASEPT 20 CPR AMNIOCEN  0.365576\n",
      "160              MODAFEN CT*24CPR FILM ZENTIVA  0.366243\n",
      "327             IBUPROFEN 400MG CT*20CPR CIPLA  0.371809\n",
      "47    IBUSINUS RACEALA & GRIPA*20 CPR SOLACIUM  0.399555\n",
      "189             IBUPROFEN 600MG CT*20CPR CIPLA  0.399867\n",
      "15     NUROFEN RACEALA SI GRIPA *12CPR F BOOTS  0.488577\n",
      "1638            IBUPROFEN 200MG CT*20CPR CIPLA  0.519396\n",
      "7            NUROFEN RACEALA SI GRIPA *24CPR F  0.519396\n",
      "\n",
      "\n",
      "\n",
      "SECOM-C 1G_GNCC 1G\n",
      "#1. SELECTED:\n",
      "871                     SECOM VITAMINA C 1000MG 100CPS\n",
      "2125    GNC VITAMIN C 1000 MG TIMED RELEASED CT*90 TBL\n",
      "Name: ITEM_NAME, dtype: object\n",
      "\n",
      "#2. COSINE DISTANCE BETWEEN SELECTED PRODUCTS: 0.658\n",
      "\n",
      "#3.1. TOP K P1\n",
      "                                           ITEM_NAME\n",
      "2436          BERES VITAMINA C RETARD 600MG+ZN*30CPR\n",
      "2447                 BERES VITAMINA C 1000MG CT*30TB\n",
      "783                     CETEBE IMUNO ACTIVE CT*60CPS\n",
      "2125  GNC VITAMIN C 1000 MG TIMED RELEASED CT*90 TBL\n",
      "3688          BERES VITAMINA C RETARD 600MG+ZN*60CPR\n",
      "1929             WALMARK SUPERVITAMINA C 600MG*30 TB\n",
      "7405                 SECOM VITAMIN C 1000MG CT*30CPS\n",
      "3322       SECOM VITAMINA D3 2000UI ADULTI CT*120CPS\n",
      "2540                          SECOM SYSTEM WELL 45TB\n",
      "717                     CETEBE IMUNO ACTIVE CT*30CPS\n",
      "\n",
      "#3.2. TOP K P2\n",
      "                                            ITEM_NAME\n",
      "5288     GNC VITAMIN C 500 MG TIMED RELEASED CT*90TBL\n",
      "5583  GNC VITAMINA C 500MG FRUIT FLAVOR FL*90TBL MAST\n",
      "871                    SECOM VITAMINA C 1000MG 100CPS\n",
      "8247             WALMARK SUPER VITAMINA C EFECT+*20TB\n",
      "1024   DR.HART VIT.C + ZINC CU ELIB. PRELUNGITA*30CPS\n",
      "2447                  BERES VITAMINA C 1000MG CT*30TB\n",
      "37       DR.HART VITAMINA C 1000 MG + ZINC*10 CPR EFF\n",
      "3404               DOPPELHERZ AKTIV C + ZINC + E*40TB\n",
      "1929              WALMARK SUPERVITAMINA C 600MG*30 TB\n",
      "375          REDOXON DOUBLE ACTION VIT.C+ZN 10CPR EFF\n",
      "\n",
      "#4. Diff vect\n",
      "                                               ITEM_NAME   COSDIST  MCO\n",
      "2125      GNC VITAMIN C 1000 MG TIMED RELEASED CT*90 TBL -0.413731  0.0\n",
      "5288        GNC VITAMIN C 500 MG TIMED RELEASED CT*90TBL -0.370041  0.0\n",
      "21053                     ENALAPRIL 10MG CPR*20 MAGISTRA -0.355463  0.0\n",
      "11981        L'OCCITANE REZ PARFUM CASA BRAD 100ML NEW15 -0.320543  0.0\n",
      "21582              L'OREAL FDT MAT MAGIQUE 02 ROSE IVORY -0.315486  0.0\n",
      "17502              BABYNOVA 33123 TERMOMETRU BAIE-DELFIN -0.308418  0.0\n",
      "17590        MELVITA GEL DUS MIGDALE&MIERE DE TEI 200 ML -0.305959  0.0\n",
      "15613                          PROGLYME CREMA CORP 180ML -0.295877  0.0\n",
      "11933                   OILATUM EMOLIENT 150ML (STIEFEL) -0.295201  0.0\n",
      "15989  SEBAMED BABY CREMA DERMATOLOGICA PROTECTOARE F... -0.294724  0.0\n",
      "                                              ITEM_NAME   COSDIST  MCO\n",
      "991         DOPPELHERZ OMEGA 3 EXTRA 1000 MG CT*120 CPS  0.356308  0.0\n",
      "5176                    SECOM SELENIUM 200MCG CT*100CPS  0.356469  0.0\n",
      "2273                     WALMARK CROM FORTE 200UG*30CPR  0.360732  0.0\n",
      "9702                        SECOM GOLDENSEAL ROOT 50CPS  0.360765  0.0\n",
      "1401                                    SECOM MSM 90CPS  0.363832  0.0\n",
      "5708                                AVACOR CT*30CPS MOI  0.367822  0.0\n",
      "555                   DOPPELHERZ AKTIV CA+MG+ZN+SE*30TB  0.372161  0.0\n",
      "6547                            SECOM CURCUMIN 95 60CPS  0.379345  0.0\n",
      "4126  ALEVIA GINKANA GINKGO BILOBA 120MG 30CPS PACHE...  0.382711  0.0\n",
      "6593          SECOM CALCIUM COMPLEX BONE FORMULA 100CPS  0.401754  0.0\n",
      "871                      SECOM VITAMINA C 1000MG 100CPS  0.413731  0.0\n",
      "\n",
      "#5. Average vector:\n",
      "                                               ITEM_NAME   COSDIST\n",
      "26097              PLANTEXTRAKT CINNABARIS CH200 FL*10ML -0.317948\n",
      "19812           LISINOPRIL MEDO 20MG CT*20CPR MEDOCHEMIE -0.280007\n",
      "23772                            MEDICA ANTISTRESS 25CPS -0.259627\n",
      "23569      PLANTE SYSTEM ARKPLSYS DEO PURETE SPRAY 50 ML -0.258523\n",
      "26466       TONUS ELAST CENTURA POSTOPERATORIE - 0 - ALB -0.252733\n",
      "1303                          ZENRA 5MG CT*28CPR ZENTIVA -0.251276\n",
      "26105  NEWCO RINOVA RELAXSAN BASIC CIORAPI MED COMPR.... -0.243446\n",
      "25326  BABY NOVA 34122 BANDA PENTRU SUZETA - CLIP OVA... -0.241557\n",
      "18292                 BEABA BIBERON STICLA 250 ML PASTEL -0.239332\n",
      "24453               POLAROID15 PLD 5009/S QUF RED TRANSP -0.224954\n",
      "                                            ITEM_NAME   COSDIST\n",
      "7405                  SECOM VITAMIN C 1000MG CT*30CPS  0.571920\n",
      "8247             WALMARK SUPER VITAMINA C EFECT+*20TB  0.579500\n",
      "1929              WALMARK SUPERVITAMINA C 600MG*30 TB  0.607455\n",
      "783                      CETEBE IMUNO ACTIVE CT*60CPS  0.614308\n",
      "3688           BERES VITAMINA C RETARD 600MG+ZN*60CPR  0.615143\n",
      "2436           BERES VITAMINA C RETARD 600MG+ZN*30CPR  0.627989\n",
      "5583  GNC VITAMINA C 500MG FRUIT FLAVOR FL*90TBL MAST  0.635484\n",
      "2447                  BERES VITAMINA C 1000MG CT*30TB  0.640746\n",
      "5288     GNC VITAMIN C 500 MG TIMED RELEASED CT*90TBL  0.698280\n",
      "2125   GNC VITAMIN C 1000 MG TIMED RELEASED CT*90 TBL  0.828827\n",
      "871                    SECOM VITAMINA C 1000MG 100CPS  0.828827\n",
      "\n",
      "\n",
      "\n",
      "CREMAMAINI_VITA\n",
      "#1. SELECTED:\n",
      "3317    NEUTROGENA CREMA MAINI CU GRAD DE ABSORTIE RID...\n",
      "456           VITAMINA A FORTE 50000UI CT*30PERLE BIOFARM\n",
      "Name: ITEM_NAME, dtype: object\n",
      "\n",
      "#2. COSINE DISTANCE BETWEEN SELECTED PRODUCTS: 0.161\n",
      "\n",
      "#3.1. TOP K P1\n",
      "                                              ITEM_NAME\n",
      "4116        NEUTROGENA CR MAINI SCENTED 75ML (OVERFILL)\n",
      "5098        NEUTROGENA CREMA MAINI ANTI-AGE SPF 15 50ML\n",
      "4541      NEUTROGENA CR MAINI UNSCENTED 75ML (OVERFILL)\n",
      "3519    NEUTROGENA BALSAM BUZE LIPCARE (BLISTER) 4.8 GR\n",
      "4543           NEUTROGENA NORDIC BERRY HAND CREAM 75 ML\n",
      "3861           NEUTROGENA NORDIC BERRY LIP STICK 4.8 GR\n",
      "5691  NEUTROGENA LOTIUNE HID. P. USCATA 400 ML (OVER...\n",
      "7296              NEUTROGENA ULTRA INTENSIVE BALM 300ML\n",
      "8995                   NEUTROGENA CR MAINI SCENTED 50ML\n",
      "8511                 NEUTROGENA CR MAINI UNSCENTED 50ML\n",
      "\n",
      "#3.2. TOP K P2\n",
      "                                            ITEM_NAME\n",
      "1562  VITAMINA A+D2 CPS 2500UI/550UI CT*30CPS BIOFARM\n",
      "205          VITAMINA E FORTE 100MG CT*30CPS GEL BIOF\n",
      "1141                   SYMPHORAL 10MG *10CPR ARMEDICA\n",
      "1451                           WALMARK ZINC 15MG*30TB\n",
      "1668                         ZINKIT 44MG CT*20CPR EFF\n",
      "787                             BORENAR 20MG CT*10CPR\n",
      "1358                PROGESTOGEL GEL 1% 80G LAB BESINS\n",
      "9656              WALMARK VITAMINA A 6000 UI CT*30CPS\n",
      "1292                       WALMARK SELENIU 0.1MG*30TB\n",
      "5444          IMUNOREZISTAN FORTE *50 ML PLANTEXTRAKT\n",
      "\n",
      "#4. Diff vect\n",
      "                                             ITEM_NAME   COSDIST  MCO\n",
      "456        VITAMINA A FORTE 50000UI CT*30PERLE BIOFARM -0.647498  0.0\n",
      "1562   VITAMINA A+D2 CPS 2500UI/550UI CT*30CPS BIOFARM -0.453363  0.0\n",
      "205           VITAMINA E FORTE 100MG CT*30CPS GEL BIOF -0.372980  0.0\n",
      "1041                VITAMINA B6 250MG CT*20CPR ZENTIVA -0.359902  0.0\n",
      "1668                          ZINKIT 44MG CT*20CPR EFF -0.356373  0.0\n",
      "787                              BORENAR 20MG CT*10CPR -0.349575  0.0\n",
      "1141                    SYMPHORAL 10MG *10CPR ARMEDICA -0.347875  0.0\n",
      "20404             POLAROID15 PLD 3008/S 3YG GOLD SHINY -0.341481  0.0\n",
      "6609               QUANTUM PHARM SUPER COMPLEX B 30CPS -0.340244  0.0\n",
      "5690                   GNC SELENIUM 200 MCG FL*100 CPS -0.335093  0.0\n",
      "                                              ITEM_NAME   COSDIST  MCO\n",
      "9103           NEUTROGENA NORDIC BERRY BODY BALM 200 ML  0.441976  0.0\n",
      "6125                     NIVEA FOR MEN GEL RAS/TS 81740  0.446316  0.0\n",
      "8511                 NEUTROGENA CR MAINI UNSCENTED 50ML  0.485536  0.0\n",
      "3173                     NIVEA LIP CARE ESSENTIAL 85061  0.486115  0.0\n",
      "3861           NEUTROGENA NORDIC BERRY LIP STICK 4.8 GR  0.489266  0.0\n",
      "3519    NEUTROGENA BALSAM BUZE LIPCARE (BLISTER) 4.8 GR  0.495605  0.0\n",
      "4541      NEUTROGENA CR MAINI UNSCENTED 75ML (OVERFILL)  0.515241  0.0\n",
      "5098        NEUTROGENA CREMA MAINI ANTI-AGE SPF 15 50ML  0.522812  0.0\n",
      "4543           NEUTROGENA NORDIC BERRY HAND CREAM 75 ML  0.540417  0.0\n",
      "4116        NEUTROGENA CR MAINI SCENTED 75ML (OVERFILL)  0.561250  0.0\n",
      "3317  NEUTROGENA CREMA MAINI CU GRAD DE ABSORTIE RID...  0.647498  0.0\n",
      "\n",
      "#5. Average vector:\n",
      "                                           ITEM_NAME   COSDIST\n",
      "18528              IMESOL 120MG CT*7CPR FILM TERAPIA -0.228449\n",
      "25553                       ACE LANCETS*50BUC ABBOTT -0.218421\n",
      "18181                  FLUIDOL-CARBOCISTEINA 5%*110G -0.216112\n",
      "25798  HARTMANN TENSIOMETRU DIGITAL TENSOVAL COMPACT -0.211927\n",
      "26342            JASPER N005K GENUNCHERA 2 BALENE XL -0.209116\n",
      "24213     BENDAMUSTINA ACCORD 100MG 2.5 MG/ML CT*5FL -0.207729\n",
      "23308       BALS GHEARA DIAVOL 250ML (CREVIL) ONE CO -0.207305\n",
      "25801                     PRILIGY 60MG CT*6 CPR FILM -0.205281\n",
      "26642             FOLTENE PHARMA SAMP PAR GRAS 200ML -0.202422\n",
      "20171                                  MEDICA URZICA -0.199941\n",
      "                                              ITEM_NAME   COSDIST\n",
      "3241                VITALIA K CREMA CU UREE 15% FL*50ML  0.401925\n",
      "2120                VITALIA K CREMA CU UREE 30% FL*50ML  0.406459\n",
      "4543           NEUTROGENA NORDIC BERRY HAND CREAM 75 ML  0.415500\n",
      "3861           NEUTROGENA NORDIC BERRY LIP STICK 4.8 GR  0.431329\n",
      "3519    NEUTROGENA BALSAM BUZE LIPCARE (BLISTER) 4.8 GR  0.451252\n",
      "5691  NEUTROGENA LOTIUNE HID. P. USCATA 400 ML (OVER...  0.457695\n",
      "4541      NEUTROGENA CR MAINI UNSCENTED 75ML (OVERFILL)  0.460727\n",
      "5098        NEUTROGENA CREMA MAINI ANTI-AGE SPF 15 50ML  0.466216\n",
      "4116        NEUTROGENA CR MAINI SCENTED 75ML (OVERFILL)  0.501498\n",
      "3317  NEUTROGENA CREMA MAINI CU GRAD DE ABSORTIE RID...  0.580746\n",
      "456         VITAMINA A FORTE 50000UI CT*30PERLE BIOFARM  0.580746\n",
      "\n",
      "\n",
      "\n"
     ]
    }
   ],
   "source": [
    "sg_128_cos.DifAvgExp(dict_pairs)"
   ]
  },
  {
   "cell_type": "code",
   "execution_count": 7,
   "metadata": {},
   "outputs": [
    {
     "name": "stdout",
     "output_type": "stream",
     "text": [
      "[79]\n"
     ]
    }
   ],
   "source": [
    "### NUROFEN EXPRESS FORTE (8) & IBUPROFEN 600MG (189)\n",
    "\n",
    "ibuprofen = sg_128_euc.embeddings[189]\n",
    "nurofen_exp = sg_128_euc.embeddings[8]\n",
    "concept1 = abs(nurofen_exp-ibuprofen)\n",
    "mask_concept1 = concept1 <= 0.01\n",
    "print(np.argwhere(mask_concept1 == np.amax(mask_concept1)).flatten())"
   ]
  },
  {
   "cell_type": "code",
   "execution_count": 8,
   "metadata": {},
   "outputs": [
    {
     "name": "stdout",
     "output_type": "stream",
     "text": [
      "[ 59  86 106]\n"
     ]
    }
   ],
   "source": [
    "### BRUFEN (36) & ADAGIN (133)\n",
    "\n",
    "brufen = sg_128_euc.embeddings[36]\n",
    "adagin = sg_128_euc.embeddings[133]\n",
    "concept2 = abs(adagin-brufen)\n",
    "mask_concept2 = concept2 <= 0.01\n",
    "print(np.argwhere(mask_concept2 == np.amax(mask_concept2)).flatten())"
   ]
  },
  {
   "cell_type": "code",
   "execution_count": 9,
   "metadata": {},
   "outputs": [
    {
     "name": "stdout",
     "output_type": "stream",
     "text": [
      "[101]\n"
     ]
    }
   ],
   "source": [
    "### DR. HART VITAMINA C (37) & VITAMINA C GNC (2125)\n",
    "\n",
    "prod1 = sg_128_cos.embeddings[37]\n",
    "prod2 = sg_128_cos.embeddings[2125]\n",
    "concept3 = abs(prod1-prod2)\n",
    "mask_concept3 = concept3 <= 0.001\n",
    "print(np.argwhere(mask_concept3 == np.amax(mask_concept3)).flatten())"
   ]
  },
  {
   "cell_type": "code",
   "execution_count": 10,
   "metadata": {},
   "outputs": [
    {
     "name": "stdout",
     "output_type": "stream",
     "text": [
      "[  2  13  19  42  48  59  65  71  79 101]\n"
     ]
    }
   ],
   "source": [
    "### SECOM VITAMINA C (871) & REDOXON VIT C (6028)\n",
    "\n",
    "prod3 = sg_128_cos.embeddings[871]\n",
    "prod4 = sg_128_cos.embeddings[6028]\n",
    "concept4 = abs(prod3-prod4)\n",
    "mask_concept4 = concept4 <= 0.005\n",
    "print(np.argwhere(mask_concept4 == np.amax(mask_concept4)).flatten())"
   ]
  },
  {
   "cell_type": "code",
   "execution_count": null,
   "metadata": {
    "collapsed": true
   },
   "outputs": [],
   "source": []
  },
  {
   "cell_type": "code",
   "execution_count": null,
   "metadata": {
    "collapsed": true
   },
   "outputs": [],
   "source": []
  },
  {
   "cell_type": "code",
   "execution_count": 15,
   "metadata": {
    "collapsed": true
   },
   "outputs": [],
   "source": [
    "nurofen = sg_128_cos.embeddings[7]\n",
    "vitc = sg_128_cos.embeddings[871]\n",
    "crema = sg_128_cos.embeddings[3317]\n",
    "cetebe = sg_128_cos.embeddings[717]\n",
    "\n",
    "K = 10\n",
    "result = vitc-cetebe+crema\n",
    "result = result / np.sqrt(np.sum(result ** 2))\n",
    "dist = sg_128_cos.embeddings.dot(result)\n",
    "top_k_indexes = np.argsort(dist)\n",
    "top_k_indexes_minus = top_k_indexes[:K]\n",
    "top_k_indexes_plus = top_k_indexes[-(K+1):]\n",
    "\n",
    "distances_minus = dist[top_k_indexes_minus]\n",
    "distances_plus = dist[top_k_indexes_plus]\n",
    "df_minus = sg_128_euc.df.loc[top_k_indexes_minus,['ITEM_NAME']]\n",
    "df_minus['COSDIST'] = distances_minus\n",
    "df_plus = sg_128_euc.df.loc[top_k_indexes_plus,['ITEM_NAME']]\n",
    "df_plus['COSDIST'] = distances_plus"
   ]
  },
  {
   "cell_type": "code",
   "execution_count": 16,
   "metadata": {},
   "outputs": [
    {
     "name": "stdout",
     "output_type": "stream",
     "text": [
      "                                               ITEM_NAME   COSDIST\n",
      "7353                     BROMHEXIN 8MG CT*20CPR FARMACOM -0.308306\n",
      "26689       L'OCCITANE TESTER IRIS BLEU CREMA MAINI 30ML -0.295875\n",
      "26605                             ARTSANA TERM VEDO EASY -0.291648\n",
      "25313             MAVALA F TANOA ULEI FRANGIPANIER 125ML -0.273227\n",
      "24173     K'S KIDS KA10496 ZEBRA RYAN MARE 28 ACTIVITATI -0.270940\n",
      "26425               POLAROID16 PLD 1017/S 3YG LIGHT GOLD -0.268627\n",
      "23690                    POLAROID16 PLD 4024/S D28 BLACK -0.268250\n",
      "25798      HARTMANN TENSIOMETRU DIGITAL TENSOVAL COMPACT -0.265443\n",
      "23829             POLAROID15 PLD 5008/S 000 8W ROSE GOLD -0.262004\n",
      "26253  TONUS ELAST CENTURA ELASTICA HERNIE OMBILICALA... -0.258667\n"
     ]
    }
   ],
   "source": [
    "print(df_minus)"
   ]
  },
  {
   "cell_type": "code",
   "execution_count": 17,
   "metadata": {},
   "outputs": [
    {
     "name": "stdout",
     "output_type": "stream",
     "text": [
      "                                              ITEM_NAME   COSDIST\n",
      "8995                   NEUTROGENA CR MAINI SCENTED 50ML  0.485655\n",
      "8511                 NEUTROGENA CR MAINI UNSCENTED 50ML  0.504254\n",
      "5691  NEUTROGENA LOTIUNE HID. P. USCATA 400 ML (OVER...  0.504904\n",
      "3861           NEUTROGENA NORDIC BERRY LIP STICK 4.8 GR  0.516796\n",
      "7296              NEUTROGENA ULTRA INTENSIVE BALM 300ML  0.533349\n",
      "4543           NEUTROGENA NORDIC BERRY HAND CREAM 75 ML  0.555779\n",
      "4541      NEUTROGENA CR MAINI UNSCENTED 75ML (OVERFILL)  0.569865\n",
      "3519    NEUTROGENA BALSAM BUZE LIPCARE (BLISTER) 4.8 GR  0.596062\n",
      "5098        NEUTROGENA CREMA MAINI ANTI-AGE SPF 15 50ML  0.630968\n",
      "4116        NEUTROGENA CR MAINI SCENTED 75ML (OVERFILL)  0.642729\n",
      "3317  NEUTROGENA CREMA MAINI CU GRAD DE ABSORTIE RID...  0.742812\n"
     ]
    }
   ],
   "source": [
    "print(df_plus)"
   ]
  },
  {
   "cell_type": "code",
   "execution_count": null,
   "metadata": {
    "collapsed": true
   },
   "outputs": [],
   "source": []
  },
  {
   "cell_type": "code",
   "execution_count": null,
   "metadata": {
    "collapsed": true
   },
   "outputs": [],
   "source": []
  },
  {
   "cell_type": "code",
   "execution_count": null,
   "metadata": {
    "collapsed": true
   },
   "outputs": [],
   "source": []
  }
 ],
 "metadata": {
  "kernelspec": {
   "display_name": "Python 3",
   "language": "python",
   "name": "python3"
  },
  "language_info": {
   "codemirror_mode": {
    "name": "ipython",
    "version": 3
   },
   "file_extension": ".py",
   "mimetype": "text/x-python",
   "name": "python",
   "nbconvert_exporter": "python",
   "pygments_lexer": "ipython3",
   "version": "3.6.2"
  }
 },
 "nbformat": 4,
 "nbformat_minor": 2
}
