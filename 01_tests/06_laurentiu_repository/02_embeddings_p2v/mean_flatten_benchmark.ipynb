{
 "cells": [
  {
   "cell_type": "markdown",
   "metadata": {},
   "source": [
    "### <h3> 64 Emb - flatten </h3>\n",
    "\n",
    "Epoch 0: 0 hours, 43 minutes and 28 seconds <br>\n",
    "Epoch 1: 0 hours, 43 minutes and 29 seconds <br>\n",
    "Epoch 2: 0 hours, 43 minutes and 29 seconds <br>\n",
    "Epoch 3: 0 hours, 43 minutes and 34 seconds <br>\n",
    "Epoch 4: 0 hours, 43 minutes and 37 seconds <br>\n",
    "Epoch 5: 0 hours, 43 minutes and 38 seconds <br>\n",
    "etc...\n"
   ]
  },
  {
   "cell_type": "markdown",
   "metadata": {},
   "source": [
    "<h3> 64 Emb - mean </h3>\n",
    "\n",
    "Epoch 0: 0 hours, 41 minutes and 27 seconds <br>\n",
    "Epoch 1: 0 hours, 41 minutes and 37 seconds <br>\n",
    "Epoch 2: 0 hours, 41 minutes and 36 seconds <br>\n",
    "Epoch 3: 0 hours, 41 minutes and 37 seconds <br>\n",
    "Epoch 4: 0 hours, 41 minutes and 37 seconds <br>\n",
    "Epoch 5: 0 hours, 41 minutes and 38 seconds <br>\n",
    "etc..."
   ]
  },
  {
   "cell_type": "markdown",
   "metadata": {
    "collapsed": true
   },
   "source": [
    "<h3> Speed </h3>"
   ]
  },
  {
   "cell_type": "code",
   "execution_count": 6,
   "metadata": {},
   "outputs": [
    {
     "name": "stdout",
     "output_type": "stream",
     "text": [
      "MEAN is 4.48% faster that FLATTEN\n"
     ]
    }
   ],
   "source": [
    "t_mean_per_epoch = 41 * 60 + 37\n",
    "t_flatten_per_epoch = 43 * 60  + 34\n",
    "\n",
    "speedup_epoch = ((t_flatten_per_epoch - t_mean_per_epoch) / t_flatten_per_epoch) * 100\n",
    "print(\"MEAN is {:.2f}% faster that FLATTEN\".format(speedup_epoch))"
   ]
  },
  {
   "cell_type": "code",
   "execution_count": 10,
   "metadata": {},
   "outputs": [
    {
     "name": "stdout",
     "output_type": "stream",
     "text": [
      "MEAN is 4.10% faster that FLATTEN\n"
     ]
    }
   ],
   "source": [
    "T_mean = 10 * 60 * 60 + 27 * 60 + 14\n",
    "T_flatten = 10 * 60 * 60 + 54 * 60 + 1\n",
    "speedup_total = ((T_flatten - T_mean) / T_flatten) * 100\n",
    "print(\"MEAN is {:.2f}% faster that FLATTEN\".format(speedup_total))"
   ]
  }
 ],
 "metadata": {
  "kernelspec": {
   "display_name": "Python 3",
   "language": "python",
   "name": "python3"
  },
  "language_info": {
   "codemirror_mode": {
    "name": "ipython",
    "version": 3
   },
   "file_extension": ".py",
   "mimetype": "text/x-python",
   "name": "python",
   "nbconvert_exporter": "python",
   "pygments_lexer": "ipython3",
   "version": "3.6.2"
  }
 },
 "nbformat": 4,
 "nbformat_minor": 2
}
