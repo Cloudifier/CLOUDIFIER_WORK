{
 "cells": [
  {
   "cell_type": "code",
   "execution_count": null,
   "metadata": {
    "collapsed": true
   },
   "outputs": [],
   "source": [
    "import pandas as pd\n",
    "import numpy as np\n",
    "from time import time"
   ]
  },
  {
   "cell_type": "code",
   "execution_count": null,
   "metadata": {
    "collapsed": true
   },
   "outputs": [],
   "source": [
    "### READ ITEMS.csv & create id2newid dict\n",
    "\n",
    "df_prod = pd.read_csv('ITEMS.csv', encoding='ISO-8859-1')\n",
    "newids = np.array(df_prod['NEW_ID'].tolist()) - 1\n",
    "newids = list(newids)\n",
    "ids = df_prod['ITEM_ID'].tolist()\n",
    "dict_id2newid = dict(zip(ids, newids))"
   ]
  },
  {
   "cell_type": "markdown",
   "metadata": {},
   "source": [
    "<h1> CUST_PROD_TIME.CSV </h1>"
   ]
  },
  {
   "cell_type": "code",
   "execution_count": null,
   "metadata": {
    "scrolled": true
   },
   "outputs": [],
   "source": [
    "### READ cust_prod_time.csv & Give Column names\n",
    "\n",
    "print('Start reading cust_prod_time.csv ...')\n",
    "start = time()\n",
    "df_cust_prod_time = pd.read_csv('cust_prod_time.csv')\n",
    "print('Finished reading cust_prod_time.csv! [{:.2f}s]'.format (time() - start))\n",
    "df_cust_prod_time.columns = ['CUST_ID', 'ITEM_ID', 'TIMESTAMP']"
   ]
  },
  {
   "cell_type": "code",
   "execution_count": null,
   "metadata": {
    "collapsed": true
   },
   "outputs": [],
   "source": [
    "### For df_cust_prod_time remap ITEM_IDs with the new ones\n",
    "\n",
    "df_cust_prod_time['ITEM_ID'].update( df_cust_prod_time['ITEM_ID'].map(dict_id2newid) )   # series update is an inplace operation"
   ]
  },
  {
   "cell_type": "code",
   "execution_count": null,
   "metadata": {
    "collapsed": true
   },
   "outputs": [],
   "source": [
    "### For df_cust_prod_time transform TIMESTAMP column into pd.Timestamp\n",
    "\n",
    "df_cust_prod_time['TIMESTAMP'] = pd.to_datetime(df_cust_prod_time['TIMESTAMP'])"
   ]
  },
  {
   "cell_type": "code",
   "execution_count": null,
   "metadata": {
    "collapsed": true
   },
   "outputs": [],
   "source": [
    "### Sort df_cust_prod_time by TIMESTAMP\n",
    "\n",
    "df_cust_prod_time = df_cust_prod_time.sort_values(by='TIMESTAMP')"
   ]
  },
  {
   "cell_type": "code",
   "execution_count": null,
   "metadata": {
    "collapsed": true
   },
   "outputs": [],
   "source": [
    "### Get cleaned data in order to create the pickle file\n",
    "\n",
    "data = np.array(df_cust_prod_time['ITEM_ID'])\n",
    "data.dump('D:/Google Drive/_hyperloop_data/recom_compl/_data/ordered_trans.p')"
   ]
  },
  {
   "cell_type": "markdown",
   "metadata": {},
   "source": [
    "<h1> ALL_COLUMNS </h1>"
   ]
  },
  {
   "cell_type": "markdown",
   "metadata": {},
   "source": [
    "<h1> TRAN_SITE_PROD_TIME.CSV </h1>"
   ]
  },
  {
   "cell_type": "code",
   "execution_count": null,
   "metadata": {},
   "outputs": [],
   "source": [
    "### READ tran_site_prod_time.csv & Give Column names\n",
    "\n",
    "print('Start reading tran_site_prod_time.csv ...')\n",
    "start = time()\n",
    "df_tran_site_prod_time = pd.read_csv('tran_site_prod_time.csv')\n",
    "print('Finished reading tran_site_prod_time.csv! [{:.2f}s]'.format (time() - start))\n",
    "df_tran_site_prod_time.columns = ['ITEM_ID', 'TIMESTAMP', 'TRAN_ID', 'SITE_ID']"
   ]
  },
  {
   "cell_type": "code",
   "execution_count": null,
   "metadata": {},
   "outputs": [],
   "source": [
    "### For df_tran_site_prod_time remap ITEM_IDs with the new ones\n",
    "\n",
    "print('Updating ITEM_IDs ...')\n",
    "df_tran_site_prod_time['ITEM_ID'].update( df_tran_site_prod_time['ITEM_ID'].map(dict_id2newid) )   # series update is an inplace operation"
   ]
  },
  {
   "cell_type": "code",
   "execution_count": null,
   "metadata": {},
   "outputs": [],
   "source": [
    "### For df_tran_site_prod_time transform TIMESTAMP column into pd.Timestamp\n",
    "\n",
    "print('Transforming TIMESTAMP column')\n",
    "df_tran_site_prod_time['TIMESTAMP'] = pd.to_datetime(df_tran_site_prod_time['TIMESTAMP'])"
   ]
  },
  {
   "cell_type": "code",
   "execution_count": null,
   "metadata": {},
   "outputs": [],
   "source": [
    "### Sort df_tran_site_prod_time by TIMESTAMP\n",
    "\n",
    "print('Sorting by TIMESTAMP')\n",
    "df_tran_site_prod_time = df_tran_site_prod_time.sort_values(by='TIMESTAMP')"
   ]
  },
  {
   "cell_type": "code",
   "execution_count": null,
   "metadata": {
    "collapsed": true
   },
   "outputs": [],
   "source": [
    "df_tran_site_prod_time['FTRANID'] = df_tran_site_prod_time['SITE_ID'].map(str) + df_tran_site_prod_time['TRAN_ID'].map(str)"
   ]
  },
  {
   "cell_type": "code",
   "execution_count": null,
   "metadata": {
    "collapsed": true
   },
   "outputs": [],
   "source": [
    "df = df[['FTRANID', 'TIMESTAMP', 'ITEM_ID']]"
   ]
  },
  {
   "cell_type": "code",
   "execution_count": null,
   "metadata": {
    "collapsed": true
   },
   "outputs": [],
   "source": [
    "df_tran_site_prod_time.reset_index(inplace = True)"
   ]
  },
  {
   "cell_type": "code",
   "execution_count": null,
   "metadata": {},
   "outputs": [],
   "source": [
    "df_tran_site_prod_time.head()"
   ]
  },
  {
   "cell_type": "code",
   "execution_count": null,
   "metadata": {
    "collapsed": true
   },
   "outputs": [],
   "source": [
    "df = df_tran_site_prod_time"
   ]
  },
  {
   "cell_type": "code",
   "execution_count": null,
   "metadata": {},
   "outputs": [],
   "source": [
    "df[(df.TIMESTAMP >= '2016-05-10 00:00') & (df.TIMESTAMP <= '2016-05-10 01:00')]"
   ]
  },
  {
   "cell_type": "code",
   "execution_count": null,
   "metadata": {
    "collapsed": true
   },
   "outputs": [],
   "source": []
  }
 ],
 "metadata": {
  "kernelspec": {
   "display_name": "Python 3",
   "language": "python",
   "name": "python3"
  },
  "language_info": {
   "codemirror_mode": {
    "name": "ipython",
    "version": 3
   },
   "file_extension": ".py",
   "mimetype": "text/x-python",
   "name": "python",
   "nbconvert_exporter": "python",
   "pygments_lexer": "ipython3",
   "version": "3.5.4"
  }
 },
 "nbformat": 4,
 "nbformat_minor": 2
}
